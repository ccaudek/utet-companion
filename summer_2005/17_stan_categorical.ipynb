{
 "cells": [
  {
   "cell_type": "markdown",
   "metadata": {},
   "source": [
    "# Modello categoriale {#sec-stan-categorical}"
   ]
  },
  {
   "cell_type": "markdown",
   "metadata": {},
   "source": [
    "**Prerequisiti**\n",
    "\n",
    "**Concetti e Competenze Chiave**\n",
    "\n",
    "**Preparazione del Notebook**"
   ]
  },
  {
   "cell_type": "code",
   "execution_count": 4,
   "metadata": {
    "ExecuteTime": {
     "end_time": "2024-06-15T18:03:39.389187Z",
     "start_time": "2024-06-15T18:03:38.182700Z"
    }
   },
   "outputs": [],
   "source": [
    "import logging\n",
    "import os\n",
    "import pandas as pd\n",
    "import numpy as np\n",
    "import matplotlib.pyplot as plt\n",
    "import seaborn as sns\n",
    "from io import StringIO\n",
    "import requests\n",
    "import cmdstanpy\n",
    "from cmdstanpy import CmdStanModel\n",
    "cmdstanpy.utils.get_logger().setLevel(logging.ERROR)\n",
    "import arviz as az\n",
    "import warnings\n",
    "warnings.simplefilter(action=\"ignore\", category=FutureWarning)"
   ]
  },
  {
   "cell_type": "code",
   "execution_count": 6,
   "metadata": {
    "ExecuteTime": {
     "end_time": "2024-06-15T18:03:40.709652Z",
     "start_time": "2024-06-15T18:03:40.703979Z"
    }
   },
   "outputs": [],
   "source": [
    "seed: int = sum(map(ord, \"stan_hier_beta_binomial\"))\n",
    "rng: np.random.Generator = np.random.default_rng(seed=seed)\n",
    "sns.set_theme(palette=\"colorblind\")\n",
    "az.style.use(\"arviz-darkgrid\")\n",
    "%config InlineBackend.figure_format = \"retina\"\n",
    "\n",
    "# Get the home directory\n",
    "home_directory = os.path.expanduser(\"~\")\n",
    "# Construct the path to the Quarto project directory \n",
    "project_directory = os.path.join(\n",
    "    home_directory, '_repositories', 'psicometria')"
   ]
  },
  {
   "cell_type": "markdown",
   "metadata": {},
   "source": [
    "## Introduzione {.unnumbered}\n",
    "\n",
    "Nel capitolo @sec-change-across-time, utilizzeremo Stan per stimare i parametri di un processo dinamico utilizzando un modello di Markov di primo ordine. In quella discussione, impiegheremo la distribuzione di probabilità categoriale. L'obiettivo di questo capitolo è familiarizzare con questa distribuzione.\n",
    "\n",
    "La variabile casuale più semplice può assumere solo due stati, comunemente denominati \"successo\" e \"fallimento\". Tuttavia, variabili casuali più complesse possono avere più di due stati possibili. In questo capitolo, esploreremo come la teoria della probabilità tratta questi diversi scenari."
   ]
  },
  {
   "cell_type": "markdown",
   "metadata": {},
   "source": [
    "## Distribuzioni Bernoulliana e Binomiale\n",
    "\n",
    "**1. Distribuzione Bernoulliana**:\n",
    "\n",
    "- La *distribuzione Bernoulliana* (o di Bernoulli) è una distribuzione di probabilità discreta che descrive l'esito di un singolo esperimento dicotomico, cioè un evento che ha due possibili risultati: \"successo\" (generalmente codificato come 1) o \"fallimento\" (codificato come 0).\n",
    "- Un esempio classico è il lancio di una moneta: \"testa\" (successo) o \"croce\" (fallimento).\n",
    "- La probabilità di successo è denotata con $p$ e quella di fallimento con $1 - p$.\n",
    "\n",
    "**2. Distribuzione Binomiale**:\n",
    "\n",
    "- La *distribuzione Binomiale* descrive il numero di successi in una sequenza di $N$ esperimenti indipendenti, ognuno dei quali segue una distribuzione di Bernoulli con probabilità di successo $p$.\n",
    "- Un esempio potrebbe essere il numero di volte in cui si ottiene \"testa\" quando si lancia una moneta 10 volte.\n",
    "- La distribuzione binomiale ha due parametri: il numero di prove $N$ e la probabilità di successo $p$.\n",
    "\n",
    "## Distribuzioni Categoriale e Multinomiale\n",
    "\n",
    "**1. Distribuzione Categoriale**:\n",
    "\n",
    "- La *distribuzione Categoriale* è una generalizzazione della distribuzione di Bernoulli per variabili aleatorie con più di due categorie possibili.\n",
    "- È utilizzata per descrivere l'esito di un singolo esperimento che può avere più di due risultati discreti (categorie), ciascuno con una propria probabilità.\n",
    "- Un esempio psicologico potrebbe essere una prova in cui un partecipante deve scegliere tra quattro colori diversi (ad esempio, rosso, verde, blu, giallo). Le probabilità associate a ciascun colore rappresentano le probabilità categoriali.\n",
    "- Se $K$ è il numero di categorie, la distribuzione categoriale è descritta da un vettore di probabilità $\\mathbf{p} = (p_1, p_2, \\ldots, p_K)$ dove la somma di tutte le probabilità è 1 ($\\sum_{i=1}^{K} p_i = 1$).\n",
    "\n",
    "**2. Distribuzione Multinomiale**:\n",
    "\n",
    "- La *distribuzione Multinomiale* è una generalizzazione della distribuzione Binomiale per esperimenti con più di due risultati.\n",
    "- Descrive la distribuzione del numero di successi in ciascuna delle $K$ categorie in una sequenza di $N$ esperimenti indipendenti, dove ogni esperimento segue una distribuzione categoriale con probabilità specifiche per ciascuna categoria.\n",
    "- Un esempio psicologico potrebbe essere una serie di 20 prove in cui un partecipante sceglie uno dei quattro colori in ogni prova. La distribuzione multinomiale descrive il numero di volte in cui ciascun colore è scelto.\n",
    "\n",
    "## Relazioni tra Distribuzioni\n",
    "\n",
    "In sintesi, possiamo descrivere le relazioni tra le distribuzioni nel modo seguente.\n",
    "\n",
    "- *Bernoulliana* e *Binomiale*: sono appropriate per eventi dicotomici (due possibili risultati). Una singola prova è modellata da una distribuzione Bernoulliana; una serie di prove da una distribuzione Binomiale.\n",
    "- *Categoriale* e *Multinomiale*: sono appropriate per eventi con più di due risultati. Una singola prova è modellata da una distribuzione categoriale; una serie di prove da una distribuzione Multinomiale.\n",
    "\n",
    "## Esempio con la Distribuzione Binomiale\n",
    "\n",
    "Un risultato consolidato nella letteratura psicologica è che le persone con disturbi emotivi, come il disturbo d'ansia sociale (SAD), il disturbo d'ansia generalizzata (GAD) e la depressione, mostrano una tendenza costante, o bias, a generare interpretazioni negative di materiali ambigui. Questo è diverso rispetto alle persone senza disturbi emotivi, che tendono, in generale, a fornire interpretazioni positive agli stimoli ambigui (@hirsch2016resolving).\n",
    "\n",
    "Immaginiamo un compito psicologico in cui a ciascun partecipante di un campione di $N$ individui depressi viene chiesto di completare una singola prova. Viene presentata un'immagine ambigua e il partecipante deve scegliere tra due emozioni: felice o triste. L'uso di una singola prova per ciascun soggetto può essere giustificato per evitare di allertare il soggetto rispetto alle caratteristiche richieste dal compito, presentando questa prova cruciale all'interno di una serie di altre prove diverse che fungono da \"filler\". \n",
    "\n",
    "Negli esperimenti effettivi in quest'area di ricerca si utilizzano stimoli come omofoni (ciascuno con un significato negativo e uno non negativo, ad esempio \"die/dye\") oppure compiti di comprensione del testo in cui ogni set di frasi include una frase ambigua che ha un significato negativo e uno non correlato alla depressione (ad esempio, @mogg2006interpretation).\n",
    "\n",
    "Nell'esempio presente, immaginiamo che i dati raccolti siano costituiti da $N$ osservazioni, dove 1 indica un'interpretazione negativa e 0 indica un'interpretazione non negativa. La variabile casuale che rappresenta l'esito dell'esperimento è Bernoulliana, poiché ogni prova può avere solo due risultati possibili (negativo o non negativo). Lo scopo dell'inferenza è stimare il parametro $\\theta$, che rappresenta la probabilità di un'interpretazione negativa.\n",
    "\n",
    "Ecco un esempio di codice Stan che modella questo scenario:\n",
    "\n",
    "```stan\n",
    "data {\n",
    "  int<lower=1> N; // Numero di partecipanti\n",
    "  int<lower=0, upper=1> y[N]; // Risultati delle prove (valori 0 e 1)\n",
    "}\n",
    "parameters {\n",
    "  real<lower=0, upper=1> theta; // Probabilità di interpretazione negativa\n",
    "}\n",
    "model {\n",
    "  y ~ bernoulli(theta); // Likelihood: distribuzione Bernoulliana per ciascuna prova\n",
    "}\n",
    "generated quantities {\n",
    "  int y_pred; // Predizione per una nuova prova\n",
    "  y_pred = bernoulli_rng(theta);\n",
    "}\n",
    "```\n",
    "\n",
    "Spiegazione del Codice Stan:\n",
    "\n",
    "1. **Dati**:\n",
    "\n",
    "   - `N`: il numero totale di partecipanti.\n",
    "   - `y`: un array di lunghezza $N$ che contiene i risultati delle prove per ciascun partecipante, con valori 0 (interpretazione non negativa) o 1 (interpretazione negativa).\n",
    "\n",
    "2. **Parametri**:\n",
    "\n",
    "   - `theta`: un parametro che rappresenta la probabilità di un'interpretazione negativa, vincolato tra 0 e 1.\n",
    "\n",
    "3. **Modello**:\n",
    "\n",
    "   - `y ~ bernoulli(theta)`: specifica che ogni osservazione $y[i]$ segue una distribuzione Bernoulliana con parametro $\\theta$. Questa è la *likelihood* del modello, che indica come i dati osservati sono generati dato il parametro $\\theta$.\n",
    "\n",
    "4. **Quantità Generate**:\n",
    "\n",
    "   - `y_pred`: una variabile che rappresenta la predizione di un nuovo esito sulla base delle probabilità posteriori stimate. Utilizza la funzione `bernoulli_rng(theta)` per generare un'osservazione simulata secondo la distribuzione Bernoulliana con parametro $\\theta$.\n",
    "\n",
    "Questo modello Stan permette di stimare la probabilità $\\theta$ che un individuo con depressione interpreti un'ambiguità in modo negativo, sulla base dei dati osservati.\n",
    "\n",
    "## Esempio con la Distribuzione Categoriale\n",
    "\n",
    "Per illustrare il modello categoriale, possiamo partire dallo scenario descritto in precedenza, con una piccola modifica. Immaginiamo che venga presentata un'immagine ambigua al partecipante, ma questa volta il partecipante deve scegliere tra quattro emozioni possibili: felice, triste, arrabbiato o neutrale. Ogni scelta rappresenta un risultato categoriale, poiché ci sono più di due possibili risposte.\n",
    "\n",
    "In questo caso, la variabile casuale $X$ che rappresenta la risposta del soggetto può assumere quattro valori distinti, corrispondenti alle quattro emozioni. La funzione di massa di probabilità (PMF) di $X$ è descritta da un **simplex** a 4 dimensioni, il che significa che ogni probabilità è non negativa e la somma delle probabilità di tutte le categorie è pari a uno. Formalmente, se $\\theta = (\\theta_1, \\theta_2, \\theta_3, \\theta_4)$ rappresenta il vettore delle probabilità per ciascuna emozione, allora per $x \\in \\{1, 2, 3, 4\\}$, la probabilità categoriale è data da:\n",
    "\n",
    "$$\n",
    "P(X = x) = \\theta_x,\n",
    "$$\n",
    "\n",
    "dove $\\theta_x$ rappresenta la probabilità di ciascun risultato $x$.\n",
    "\n",
    "Ad esempio, supponiamo che le probabilità per le quattro emozioni siano:\n",
    "\n",
    "- $P(X = 1) = 0.2$ (felice),\n",
    "- $P(X = 2) = 0.4$ (triste),\n",
    "- $P(X = 3) = 0.1$ (arrabbiato),\n",
    "- $P(X = 4) = 0.3$ (neutrale).\n",
    "\n",
    "In questo caso, il vettore delle probabilità è $\\theta = (0.2, 0.4, 0.1, 0.3)$, che rappresenta una distribuzione categoriale in cui le probabilità di ogni emozione sommano a 1, come richiesto da un simplex.\n",
    "\n",
    "Ecco come modellare questo scenario utilizzando Stan:\n",
    "\n",
    "```stan\n",
    "data {\n",
    "  int<lower=1> N; // Numero di partecipanti\n",
    "  array[N] int<lower=1, upper=4> y;  // Risultati delle prove (valori da 1 a 4)\n",
    "}\n",
    "parameters {\n",
    "  simplex[4] theta; // Vettore delle probabilità categoriali per le quattro emozioni\n",
    "}\n",
    "model {\n",
    "  y ~ categorical(theta); // Likelihood: distribuzione categoriale per ciascuna prova\n",
    "}\n",
    "generated quantities {\n",
    "  int y_pred; // Predizione per una nuova prova\n",
    "  y_pred = categorical_rng(theta);\n",
    "}\n",
    "```\n",
    "\n",
    "Nel codice precedente \n",
    "\n",
    "1. **Dati**:\n",
    "\n",
    "   - `N`: il numero totale di partecipanti.\n",
    "   - `y`: un array di lunghezza $N$ che contiene i risultati delle prove per ciascun partecipante, dove ogni valore può essere 1 (felice), 2 (triste), 3 (arrabbiato), o 4 (neutrale).\n",
    "\n",
    "2. **Parametri**:\n",
    "\n",
    "   - `theta`: un vettore di probabilità di tipo `simplex[4]`, che rappresenta la distribuzione delle probabilità per le quattro emozioni. Il tipo `simplex` garantisce che tutte le probabilità siano non negative e che la loro somma sia pari a 1.\n",
    "\n",
    "  Quando $\\theta$ è dichiarato come `simplex[4]` senza una specifica dichiarazione di prior nel blocco `model`, Stan assume automaticamente una distribuzione a priori uniforme sulla superficie del simplex. In altre parole, ogni possibile configurazione di $\\theta$ che soddisfa le condizioni di un `simplex` (ovvero, tutte le componenti sono non negative e sommano a 1) ha la stessa probabilità a priori. Questo significa che, prima di vedere i dati, tutte le combinazioni di valori di $\\theta$ che sommano a 1 sono considerate ugualmente probabili. Non c'è alcun bias a priori che favorisca una particolare configurazione di probabilità tra le quattro emozioni (felice, triste, arrabbiato, neutrale). Quindi, nel modello Stan, la distribuzione a priori su $\\theta$ è effettivamente uniforme sul simplex, riflettendo una posizione a priori non informativa.\n",
    "\n",
    "3. **Modello**:\n",
    "\n",
    "   - `y ~ categorical(theta)`: specifica che ogni osservazione $y[i]$ segue una distribuzione categoriale con parametro $\\theta$. Questa è la *likelihood* del modello, che descrive come i dati osservati sono generati dato il vettore di probabilità $\\theta$.\n",
    "\n",
    "4. **Quantità Generate**:\n",
    "\n",
    "   - `y_pred`: una variabile che rappresenta la predizione di un nuovo esito sulla base delle probabilità posteriori stimate. Utilizza la funzione `categorical_rng(theta)` per generare un'osservazione simulata secondo la distribuzione categoriale con parametro $\\theta$.\n",
    "\n",
    "Questo modello Stan consente di stimare le probabilità associate a ciascuna emozione scelta dai partecipanti in risposta a un'immagine ambigua.\n",
    "\n",
    "## Simulazione\n",
    "\n",
    "Vediamo ora come implementare il modello categoriale in pratica. Iniziamo simulando dei dati dalla distribuzione categoriale."
   ]
  },
  {
   "cell_type": "code",
   "execution_count": 8,
   "metadata": {},
   "outputs": [
    {
     "name": "stdout",
     "output_type": "stream",
     "text": [
      "[3 2 2 2 1 1 2 2 4 2 4 1 3 2 1 4 2 2 2 2 4 3 3 1 3 4 1 4 1 4 2 4 4 2 1 2 4\n",
      " 3 2 2 2 1 1 4 2 4 2 4 2 4]\n"
     ]
    }
   ],
   "source": [
    "# Definire i valori possibili e le probabilità associate\n",
    "valori = [1, 2, 3, 4]\n",
    "probabilita = [0.2, 0.4, 0.1, 0.3]\n",
    "\n",
    "# Generare 50 valori casuali dalla distribuzione categoriale\n",
    "y = np.random.choice(valori, size=50, p=probabilita)\n",
    "print(y)"
   ]
  },
  {
   "cell_type": "markdown",
   "metadata": {},
   "source": [
    "Inseriamo i dati in un dizionario come richiesto da Stan."
   ]
  },
  {
   "cell_type": "code",
   "execution_count": 9,
   "metadata": {},
   "outputs": [],
   "source": [
    "stan_data = {\n",
    "    \"N\": len(y),\n",
    "    \"y\": y.tolist()\n",
    "}"
   ]
  },
  {
   "cell_type": "markdown",
   "metadata": {},
   "source": [
    "Importiamo il codice Stan che abbiamo discusso in precedenza."
   ]
  },
  {
   "cell_type": "code",
   "execution_count": 13,
   "metadata": {},
   "outputs": [],
   "source": [
    "stan_file = os.path.join(project_directory, \"stan\", \"categorical_model.stan\")"
   ]
  },
  {
   "cell_type": "markdown",
   "metadata": {},
   "source": [
    "Compiliamo il modello."
   ]
  },
  {
   "cell_type": "code",
   "execution_count": 14,
   "metadata": {},
   "outputs": [],
   "source": [
    "model = CmdStanModel(stan_file=stan_file)"
   ]
  },
  {
   "cell_type": "markdown",
   "metadata": {},
   "source": [
    "Eseguiamo il campionamento MCMC utilizzando i dati simulati."
   ]
  },
  {
   "cell_type": "code",
   "execution_count": 15,
   "metadata": {},
   "outputs": [],
   "source": [
    "fit = model.sample(\n",
    "    data=stan_data,\n",
    "    iter_warmup=2000, \n",
    "    iter_sampling=2000,\n",
    "    seed=42, \n",
    "    chains=4,\n",
    "    show_progress=False, \n",
    "    show_console=False\n",
    ")"
   ]
  },
  {
   "cell_type": "markdown",
   "metadata": {},
   "source": [
    "Esaminiamo le stime a posteriori dei parametri."
   ]
  },
  {
   "cell_type": "code",
   "execution_count": 18,
   "metadata": {},
   "outputs": [
    {
     "data": {
      "text/html": [
       "<div>\n",
       "<style scoped>\n",
       "    .dataframe tbody tr th:only-of-type {\n",
       "        vertical-align: middle;\n",
       "    }\n",
       "\n",
       "    .dataframe tbody tr th {\n",
       "        vertical-align: top;\n",
       "    }\n",
       "\n",
       "    .dataframe thead th {\n",
       "        text-align: right;\n",
       "    }\n",
       "</style>\n",
       "<table border=\"1\" class=\"dataframe\">\n",
       "  <thead>\n",
       "    <tr style=\"text-align: right;\">\n",
       "      <th></th>\n",
       "      <th>mean</th>\n",
       "      <th>sd</th>\n",
       "      <th>hdi_2.5%</th>\n",
       "      <th>hdi_97.5%</th>\n",
       "      <th>mcse_mean</th>\n",
       "      <th>mcse_sd</th>\n",
       "      <th>ess_bulk</th>\n",
       "      <th>ess_tail</th>\n",
       "      <th>r_hat</th>\n",
       "    </tr>\n",
       "  </thead>\n",
       "  <tbody>\n",
       "    <tr>\n",
       "      <th>theta[0]</th>\n",
       "      <td>0.20</td>\n",
       "      <td>0.05</td>\n",
       "      <td>0.10</td>\n",
       "      <td>0.31</td>\n",
       "      <td>0.0</td>\n",
       "      <td>0.0</td>\n",
       "      <td>15575.0</td>\n",
       "      <td>10516.0</td>\n",
       "      <td>1.0</td>\n",
       "    </tr>\n",
       "    <tr>\n",
       "      <th>theta[1]</th>\n",
       "      <td>0.39</td>\n",
       "      <td>0.06</td>\n",
       "      <td>0.27</td>\n",
       "      <td>0.52</td>\n",
       "      <td>0.0</td>\n",
       "      <td>0.0</td>\n",
       "      <td>15457.0</td>\n",
       "      <td>12342.0</td>\n",
       "      <td>1.0</td>\n",
       "    </tr>\n",
       "    <tr>\n",
       "      <th>theta[2]</th>\n",
       "      <td>0.13</td>\n",
       "      <td>0.04</td>\n",
       "      <td>0.05</td>\n",
       "      <td>0.22</td>\n",
       "      <td>0.0</td>\n",
       "      <td>0.0</td>\n",
       "      <td>14350.0</td>\n",
       "      <td>10458.0</td>\n",
       "      <td>1.0</td>\n",
       "    </tr>\n",
       "    <tr>\n",
       "      <th>theta[3]</th>\n",
       "      <td>0.28</td>\n",
       "      <td>0.06</td>\n",
       "      <td>0.16</td>\n",
       "      <td>0.40</td>\n",
       "      <td>0.0</td>\n",
       "      <td>0.0</td>\n",
       "      <td>15702.0</td>\n",
       "      <td>11989.0</td>\n",
       "      <td>1.0</td>\n",
       "    </tr>\n",
       "  </tbody>\n",
       "</table>\n",
       "</div>"
      ],
      "text/plain": [
       "          mean    sd  hdi_2.5%  hdi_97.5%  mcse_mean  mcse_sd  ess_bulk  \\\n",
       "theta[0]  0.20  0.05      0.10       0.31        0.0      0.0   15575.0   \n",
       "theta[1]  0.39  0.06      0.27       0.52        0.0      0.0   15457.0   \n",
       "theta[2]  0.13  0.04      0.05       0.22        0.0      0.0   14350.0   \n",
       "theta[3]  0.28  0.06      0.16       0.40        0.0      0.0   15702.0   \n",
       "\n",
       "          ess_tail  r_hat  \n",
       "theta[0]   10516.0    1.0  \n",
       "theta[1]   12342.0    1.0  \n",
       "theta[2]   10458.0    1.0  \n",
       "theta[3]   11989.0    1.0  "
      ]
     },
     "execution_count": 18,
     "metadata": {},
     "output_type": "execute_result"
    }
   ],
   "source": [
    "az.summary(fit, var_names=\"theta\", hdi_prob=0.95).round(2)"
   ]
  },
  {
   "cell_type": "markdown",
   "metadata": {},
   "source": [
    "## Interpretazione dei Risultati\n",
    "\n",
    "Nel contesto di questo esempio, immaginiamo un gruppo di pazienti depressi che giudicano delle immagini ambigue, assegnando loro un'emozione tra \"felice\", \"triste\", \"arrabbiato\" o \"neutrale\". I parametri $\\theta[0]$, $\\theta[1]$, $\\theta[2]$ e $\\theta[3]$ rappresentano le stime a posteriori delle probabilità che un partecipante scelga rispettivamente ciascuna di queste emozioni.\n",
    "\n",
    "### Interpretazione Specifica dei Parametri\n",
    "\n",
    "- **$\\theta[0]$: Emozione \"felice\"**  \n",
    "  La stima a posteriori della probabilità che un partecipante scelga l'emozione \"felice\" ($P(X = 1)$) è 0.20, con un intervallo di credibilità al 95% (HDI) che va da 0.10 a 0.31. Questo suggerisce che, per questo gruppo di pazienti depressi, c'è una probabilità relativamente bassa di interpretare un'immagine ambigua come \"felice\".\n",
    "\n",
    "- **$\\theta[1]$: Emozione \"triste\"**  \n",
    "  La stima a posteriori della probabilità che un partecipante scelga l'emozione \"triste\" ($P(X = 2)$) è 0.39, con un HDI al 95% tra 0.27 e 0.52. Questo valore più alto rispetto alle altre emozioni indica che i pazienti depressi nel campione hanno una tendenza maggiore a interpretare immagini ambigue come \"tristi\". Questo risultato è coerente con le aspettative teoriche secondo cui le persone con depressione hanno una propensione a percepire situazioni ambigue in modo più negativo.\n",
    "\n",
    "- **$\\theta[2]$: Emozione \"arrabbiato\"**  \n",
    "  La stima a posteriori della probabilità che un partecipante scelga l'emozione \"arrabbiato\" ($P(X = 3)$) è 0.13, con un HDI al 95% che va da 0.05 a 0.22. Questa probabilità relativamente bassa suggerisce che interpretare un'immagine come \"arrabbiato\" non è un'interpretazione comune tra i pazienti depressi nel campione.\n",
    "\n",
    "- **$\\theta[3]$: Emozione \"neutrale\"**  \n",
    "  La stima a posteriori della probabilità che un partecipante scelga l'emozione \"neutrale\" ($P(X = 4)$) è 0.28, con un HDI al 95% tra 0.16 e 0.40. Una probabilità del 28% indica che un'interpretazione \"neutrale\" delle immagini ambigue è relativamente comune, ma non dominante, tra i pazienti depressi.\n",
    "\n",
    "In sintesi, queste stime posteriori forniscono una chiara indicazione delle tendenze emotive dei partecipanti depressi nel contesto di interpretazioni di stimoli ambigui. L'alta probabilità di scegliere \"triste\" e le basse probabilità associate alle altre emozioni sono coerenti con la letteratura esistente che indica un bias negativo nelle interpretazioni tra persone con depressione. \n",
    "\n",
    "In questo esempio simulato, le stime posteriori di $\\theta$ riflettono accuratamente i valori delle probabilità utilizzati per generare i dati, dimostrando che anche con un numero limitato di dati, il modello bayesiano è capace di recuperare le distribuzioni delle probabilità a posteriori in modo efficace. "
   ]
  },
  {
   "cell_type": "markdown",
   "metadata": {},
   "source": [
    "## Considerazioni Conclusive\n",
    "\n",
    "L'obiettivo di questo breve capitolo era fornire un esempio della distribuzione categoriale, che rappresenta un'estensione della distribuzione di Bernoulli per il caso in cui vi siano più di due categorie possibili. Abbiamo mostrato come utilizzare Stan per eseguire inferenze su questa distribuzione, permettendo di stimare le probabilità associate a ciascuna categoria basandosi sui dati osservati. Questo approccio è utile in vari contesti psicologici in cui le risposte dei partecipanti non si limitano a scelte dicotomiche, ma comprendono più opzioni."
   ]
  },
  {
   "cell_type": "markdown",
   "metadata": {},
   "source": [
    "## Informazioni sull'Ambiente di Sviluppo {.unnumbered}"
   ]
  },
  {
   "cell_type": "code",
   "execution_count": 36,
   "metadata": {},
   "outputs": [
    {
     "name": "stdout",
     "output_type": "stream",
     "text": [
      "Last updated: Sat Jul 27 2024\n",
      "\n",
      "Python implementation: CPython\n",
      "Python version       : 3.12.4\n",
      "IPython version      : 8.26.0\n",
      "\n",
      "cmdstanpy: 1.2.4\n",
      "\n",
      "Compiler    : Clang 16.0.6 \n",
      "OS          : Darwin\n",
      "Release     : 23.5.0\n",
      "Machine     : arm64\n",
      "Processor   : arm\n",
      "CPU cores   : 8\n",
      "Architecture: 64bit\n",
      "\n",
      "arviz     : 0.18.0\n",
      "pandas    : 2.2.2\n",
      "matplotlib: 3.9.1\n",
      "numpy     : 1.26.4\n",
      "requests  : 2.32.3\n",
      "cmdstanpy : 1.2.4\n",
      "logging   : 0.5.1.2\n",
      "\n",
      "Watermark: 2.4.3\n",
      "\n"
     ]
    }
   ],
   "source": [
    "%load_ext watermark\n",
    "%watermark -n -u -v -iv -w -m -p cmdstanpy "
   ]
  }
 ],
 "metadata": {
  "kernelspec": {
   "display_name": "pymc_env",
   "language": "python",
   "name": "python3"
  },
  "language_info": {
   "codemirror_mode": {
    "name": "ipython",
    "version": 3
   },
   "file_extension": ".py",
   "mimetype": "text/x-python",
   "name": "python",
   "nbconvert_exporter": "python",
   "pygments_lexer": "ipython3",
   "version": "3.12.4"
  }
 },
 "nbformat": 4,
 "nbformat_minor": 2
}
