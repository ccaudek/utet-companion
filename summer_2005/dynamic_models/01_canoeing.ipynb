{
 "cells": [
  {
   "cell_type": "markdown",
   "id": "239ed652-5e3e-4270-b5a3-f3437e6cae2b",
   "metadata": {},
   "source": [
    "# Dinamiche post-errore {#sec-post-error}"
   ]
  },
  {
   "cell_type": "markdown",
   "metadata": {},
   "source": [
    "**Prerequisiti**\n",
    "\n",
    "- Leggere l'@sec-appendix-markov-first-order.\n",
    "\n",
    "**Concetti e competenze chiave**\n",
    "\n",
    "**Preparazione del Notebook**"
   ]
  },
  {
   "cell_type": "code",
   "execution_count": 33,
   "id": "1f7e8373-5106-49b7-8158-9333e9f8a2e7",
   "metadata": {},
   "outputs": [],
   "source": [
    "import os\n",
    "import itertools\n",
    "import logging\n",
    "import pandas as pd\n",
    "import numpy as np\n",
    "import matplotlib.pyplot as plt\n",
    "import arviz as az\n",
    "from scipy import stats\n",
    "import bambi as bmb\n",
    "import cmdstanpy\n",
    "from cmdstanpy import CmdStanModel\n",
    "cmdstanpy.utils.get_logger().setLevel(logging.ERROR)\n",
    "import warnings\n",
    "\n",
    "warnings.simplefilter(action=\"ignore\")"
   ]
  },
  {
   "cell_type": "code",
   "execution_count": 2,
   "id": "c3bb4024-72a5-4b17-badf-153ef30671bd",
   "metadata": {},
   "outputs": [],
   "source": [
    "seed: int = sum(map(ord, \"stan_canoeing\"))\n",
    "rng: np.random.Generator = np.random.default_rng(seed=seed)\n",
    "az.style.use(\"arviz-darkgrid\")\n",
    "%config InlineBackend.figure_format = \"retina\"\n",
    "\n",
    "# Get the home directory\n",
    "home_directory = os.path.expanduser(\"~\")\n",
    "# Construct the path to the Quarto project directory \n",
    "project_directory = os.path.join(home_directory, '_repositories', 'psicometria')"
   ]
  },
  {
   "cell_type": "markdown",
   "metadata": {},
   "source": [
    "## Introduzione\n",
    "\n",
    "In questo capitolo introdurremo i modelli dinamici utilizzando un semplice processo di Markov di primo livello. Utilizzeremo un esempio specifico per spiegare come questi modelli possano essere applicati per testare teorie psicologiche. In particolare, ci concentreremo su due diverse teorie psicologiche del controllo cognitivo che spiegano la prestazione dopo un errore. Le teorie del controllo cognitivo e della performance post-errore rappresentano un'area di ricerca importante e dibattuta nella psicologia cognitiva e nelle neuroscienze cognitive. Le principali correnti teoriche proposte — le teorie funzionali e non funzionali — offrono interpretazioni contrastanti su come gli individui rispondono agli errori in compiti cognitivi.\n",
    "\n",
    "Le teorie funzionali, come quella proposta da @botvinick2001conflict, si basano sul concetto di \"monitoraggio del conflitto\". Secondo questo modello, quando si verifica un errore, il sistema cognitivo rileva un conflitto tra la risposta data e quella corretta, innescando un aumento del controllo cognitivo che migliora la performance nelle prove successive. L'area cingolata anteriore (ACC) è considerata cruciale in questo processo, fungendo da \"rilevatore di conflitto\" e segnalando la necessità di un maggiore controllo cognitivo, mediato dalla corteccia prefrontale dorsolaterale (DLPFC). Studi successivi, come quello di Kerns et al. (2004) utilizzando la risonanza magnetica funzionale (fMRI), hanno supportato questa teoria mostrando che l'attività nell'ACC durante una prova con errore predice un aumento dell'attività nella DLPFC e un miglioramento della performance nella prova successiva.\n",
    "\n",
    "Al contrario, le teorie non funzionali, come quelle proposte da @notebaert2009post, suggeriscono che la performance post-errore sia peggiore rispetto a quella post-corretta. Queste teorie si basano sul concetto di \"orientamento attenzionale\" o \"disturbo\" del sistema cognitivo. Secondo la teoria dell'\"orientamento post-errore\", gli errori, essendo eventi infrequenti e salienti, catturano l'attenzione del soggetto, distogliendola dal compito in corso, e portano a un rallentamento e peggioramento della performance nelle prove successive.\n",
    "\n",
    "È importante notare che entrambe le teorie hanno trovato supporto empirico in diversi studi. Ad esempio, Dutilh et al. (2012) hanno trovato evidenze sia di rallentamento post-errore (coerente con le teorie non funzionali) sia di aumento dell'accuratezza post-errore (coerente con le teorie funzionali). @danielmeier2011post hanno proposto una sintesi di questi punti di vista, suggerendo che la risposta agli errori potrebbe coinvolgere più meccanismi operanti su scale temporali diverse: un rallentamento immediato dovuto a un orientamento attenzionale, seguito da un miglioramento della performance dovuto all'aumento del controllo cognitivo.\n",
    "\n",
    "La maggior parte di questi studi si è basata su compiti di laboratorio altamente controllati, utilizzando paradigmi di scelta forzata a due alternative (2AFC) ripetuti molte volte. Mentre questi paradigmi offrono un alto grado di controllo sperimentale, possono mancare di validità ecologica e non riflettere accuratamente il comportamento in situazioni reali, dove gli errori hanno conseguenze significative.\n",
    "\n",
    "In questo tutorial, esamineremo il comportamento post-errore e post-prova corretta in situazioni reali, analizzando la performance di atleti durante competizioni di canoa slalom a livello mondiale ed europeo. Utilizzeremo i video degli atleti che attraversano correttamente la linea tra i pali, codificati da due giudici indipendenti, per analizzare la probabilità di commettere un errore dopo un attraversamento corretto o errato di una porta.\n",
    "\n",
    "Studiando il comportamento in contesti reali, possiamo testare queste previsioni opposte in condizioni in cui gli errori hanno conseguenze significative per l'individuo. Questo approccio offre diversi vantaggi che sono elencati di seguito. \n",
    "\n",
    "Studiando il comportamento in una situazione reale di competizione, possiamo osservare come le teorie del controllo cognitivo si applicano in contesti ad alta posta in gioco. Gli atleti di alto livello sono intrinsecamente motivati a performare al meglio, il che potrebbe portare a risposte agli errori più intense e rilevanti rispetto a quelle osservate in laboratorio. Gli atleti di élite hanno una vasta esperienza nel loro sport, che può influenzare i loro meccanismi di controllo cognitivo in modi interessanti e diversi dai partecipanti tipici degli studi di laboratorio. Il canoa slalom richiede l'integrazione di abilità motorie complesse con processi decisionali rapidi, offrendo una visione più completa del controllo cognitivo rispetto ai tipici compiti di laboratorio. I risultati potrebbero avere implicazioni dirette per l'allenamento e la preparazione degli atleti, aumentando la rilevanza pratica della ricerca.\n",
    "\n",
    "I risultati di questo studio potrebbero fornire importanti indicazioni per le teorie del controllo cognitivo:\n",
    "\n",
    "- Se si osserva un miglioramento della performance post-errore, questo supporterebbe le teorie funzionali, suggerendo che i meccanismi di controllo cognitivo proposti da @botvinick2001conflict si applicano anche in contesti reali ad alta posta in gioco.\n",
    "- Se si rileva un peggioramento della performance post-errore, ciò potrebbe supportare le teorie non funzionali e indicare che l'orientamento attenzionale verso gli errori è particolarmente pronunciato in situazioni di competizione reale.\n",
    "- Potrebbe emergere un pattern più complesso, come un peggioramento iniziale seguito da un miglioramento, che supporterebbe modelli integrativi come quello proposto da @danielmeier2011post.\n",
    "\n",
    "In conclusione, studiare il controllo cognitivo e la performance post-errore in un contesto sportivo di alto livello offre un'opportunità unica per testare e ampliare le teorie esistenti in un ambiente ecologicamente valido. I risultati possono non solo contribuire alla comprensione teorica del controllo cognitivo, ma anche fornire indicazioni pratiche per migliorare le prestazioni in contesti ad alta posta in gioco.\n",
    "\n",
    "Iniziamo ad importare i dati."
   ]
  },
  {
   "cell_type": "code",
   "execution_count": 6,
   "id": "f6ab5d6a-14ec-4c81-9fa5-bc56400f99e6",
   "metadata": {},
   "outputs": [
    {
     "data": {
      "text/html": [
       "<div>\n",
       "<style scoped>\n",
       "    .dataframe tbody tr th:only-of-type {\n",
       "        vertical-align: middle;\n",
       "    }\n",
       "\n",
       "    .dataframe tbody tr th {\n",
       "        vertical-align: top;\n",
       "    }\n",
       "\n",
       "    .dataframe thead th {\n",
       "        text-align: right;\n",
       "    }\n",
       "</style>\n",
       "<table border=\"1\" class=\"dataframe\">\n",
       "  <thead>\n",
       "    <tr style=\"text-align: right;\">\n",
       "      <th></th>\n",
       "      <th>athlete</th>\n",
       "      <th>boat_craft</th>\n",
       "      <th>nation</th>\n",
       "      <th>sex</th>\n",
       "      <th>rank</th>\n",
       "      <th>time</th>\n",
       "      <th>run</th>\n",
       "      <th>city</th>\n",
       "      <th>year</th>\n",
       "      <th>runf</th>\n",
       "      <th>gate</th>\n",
       "      <th>accuracy</th>\n",
       "      <th>NGATES</th>\n",
       "      <th>acc</th>\n",
       "      <th>n_gate</th>\n",
       "      <th>lagged_accuracy</th>\n",
       "      <th>sequence_id</th>\n",
       "    </tr>\n",
       "  </thead>\n",
       "  <tbody>\n",
       "    <tr>\n",
       "      <th>0</th>\n",
       "      <td>AABOEN</td>\n",
       "      <td>K1</td>\n",
       "      <td>NOR</td>\n",
       "      <td>M</td>\n",
       "      <td>78</td>\n",
       "      <td>108.99</td>\n",
       "      <td>1</td>\n",
       "      <td>K1M_worlds</td>\n",
       "      <td>2017</td>\n",
       "      <td>1</td>\n",
       "      <td>G1</td>\n",
       "      <td>1.0</td>\n",
       "      <td>23</td>\n",
       "      <td>1.0</td>\n",
       "      <td>1</td>\n",
       "      <td>NaN</td>\n",
       "      <td>1.0</td>\n",
       "    </tr>\n",
       "    <tr>\n",
       "      <th>1</th>\n",
       "      <td>AABOEN</td>\n",
       "      <td>K1</td>\n",
       "      <td>NOR</td>\n",
       "      <td>M</td>\n",
       "      <td>78</td>\n",
       "      <td>108.99</td>\n",
       "      <td>1</td>\n",
       "      <td>K1M_worlds</td>\n",
       "      <td>2017</td>\n",
       "      <td>1</td>\n",
       "      <td>G2</td>\n",
       "      <td>1.0</td>\n",
       "      <td>23</td>\n",
       "      <td>1.0</td>\n",
       "      <td>2</td>\n",
       "      <td>1.0</td>\n",
       "      <td>1.0</td>\n",
       "    </tr>\n",
       "    <tr>\n",
       "      <th>2</th>\n",
       "      <td>AABOEN</td>\n",
       "      <td>K1</td>\n",
       "      <td>NOR</td>\n",
       "      <td>M</td>\n",
       "      <td>78</td>\n",
       "      <td>108.99</td>\n",
       "      <td>1</td>\n",
       "      <td>K1M_worlds</td>\n",
       "      <td>2017</td>\n",
       "      <td>1</td>\n",
       "      <td>G3</td>\n",
       "      <td>1.0</td>\n",
       "      <td>23</td>\n",
       "      <td>1.0</td>\n",
       "      <td>3</td>\n",
       "      <td>1.0</td>\n",
       "      <td>1.0</td>\n",
       "    </tr>\n",
       "    <tr>\n",
       "      <th>3</th>\n",
       "      <td>AABOEN</td>\n",
       "      <td>K1</td>\n",
       "      <td>NOR</td>\n",
       "      <td>M</td>\n",
       "      <td>78</td>\n",
       "      <td>108.99</td>\n",
       "      <td>1</td>\n",
       "      <td>K1M_worlds</td>\n",
       "      <td>2017</td>\n",
       "      <td>1</td>\n",
       "      <td>G4</td>\n",
       "      <td>1.0</td>\n",
       "      <td>23</td>\n",
       "      <td>1.0</td>\n",
       "      <td>4</td>\n",
       "      <td>1.0</td>\n",
       "      <td>1.0</td>\n",
       "    </tr>\n",
       "    <tr>\n",
       "      <th>4</th>\n",
       "      <td>AABOEN</td>\n",
       "      <td>K1</td>\n",
       "      <td>NOR</td>\n",
       "      <td>M</td>\n",
       "      <td>78</td>\n",
       "      <td>108.99</td>\n",
       "      <td>1</td>\n",
       "      <td>K1M_worlds</td>\n",
       "      <td>2017</td>\n",
       "      <td>1</td>\n",
       "      <td>G5</td>\n",
       "      <td>1.0</td>\n",
       "      <td>23</td>\n",
       "      <td>1.0</td>\n",
       "      <td>5</td>\n",
       "      <td>1.0</td>\n",
       "      <td>1.0</td>\n",
       "    </tr>\n",
       "  </tbody>\n",
       "</table>\n",
       "</div>"
      ],
      "text/plain": [
       "  athlete boat_craft nation sex  rank    time  run        city  year  runf  \\\n",
       "0  AABOEN         K1    NOR   M    78  108.99    1  K1M_worlds  2017     1   \n",
       "1  AABOEN         K1    NOR   M    78  108.99    1  K1M_worlds  2017     1   \n",
       "2  AABOEN         K1    NOR   M    78  108.99    1  K1M_worlds  2017     1   \n",
       "3  AABOEN         K1    NOR   M    78  108.99    1  K1M_worlds  2017     1   \n",
       "4  AABOEN         K1    NOR   M    78  108.99    1  K1M_worlds  2017     1   \n",
       "\n",
       "  gate  accuracy  NGATES  acc  n_gate  lagged_accuracy  sequence_id  \n",
       "0   G1       1.0      23  1.0       1              NaN          1.0  \n",
       "1   G2       1.0      23  1.0       2              1.0          1.0  \n",
       "2   G3       1.0      23  1.0       3              1.0          1.0  \n",
       "3   G4       1.0      23  1.0       4              1.0          1.0  \n",
       "4   G5       1.0      23  1.0       5              1.0          1.0  "
      ]
     },
     "execution_count": 6,
     "metadata": {},
     "output_type": "execute_result"
    }
   ],
   "source": [
    "data_file = os.path.join(project_directory, \"data\", \"canoeing_data.csv\")\n",
    "canoeing_data = pd.read_csv(data_file)\n",
    "canoeing_data.head()"
   ]
  },
  {
   "cell_type": "markdown",
   "metadata": {},
   "source": [
    "Calcoliamo alcune statistiche descrittive."
   ]
  },
  {
   "cell_type": "code",
   "execution_count": 29,
   "metadata": {},
   "outputs": [
    {
     "name": "stdout",
     "output_type": "stream",
     "text": [
      "Numero totale di prove: 66413\n",
      "Numero di atleti: 459\n",
      "Numero di competizioni: 20\n",
      "Anno in cui sono stati raccolti i dati: [2017]\n"
     ]
    }
   ],
   "source": [
    "# Numero totale di prove\n",
    "num_prove = len(canoeing_data)\n",
    "\n",
    "# Numero di atleti unici\n",
    "num_atleti = canoeing_data[\"athlete\"].nunique()\n",
    "\n",
    "# Numero di competizioni uniche\n",
    "num_competizioni = canoeing_data[\"city\"].nunique()\n",
    "\n",
    "# Anni in cui sono stati raccolti i dati\n",
    "anni_raccolti = canoeing_data[\"year\"].unique()\n",
    "\n",
    "# Stampa dei risultati\n",
    "print(f\"Numero totale di prove: {num_prove}\")\n",
    "print(f\"Numero di atleti: {num_atleti}\")\n",
    "print(f\"Numero di competizioni: {num_competizioni}\")\n",
    "print(f\"Anno in cui sono stati raccolti i dati: {anni_raccolti}\")"
   ]
  },
  {
   "cell_type": "markdown",
   "metadata": {},
   "source": [
    "Creiamo la variabile `is_error`, assegnandole il valore 1 se la prova è un errore e 0 altrimenti. Convertiamo inoltre il tipo di variabile in un numero intero, come richiesto dal codice Stan."
   ]
  },
  {
   "cell_type": "code",
   "execution_count": 8,
   "metadata": {},
   "outputs": [],
   "source": [
    "canoeing_data[\"accuracy\"] = canoeing_data[\"accuracy\"].fillna(1).astype(int)\n",
    "canoeing_data[\"is_error\"] = canoeing_data[\"accuracy\"].apply(\n",
    "    lambda x: 1 if x == 0 else 0\n",
    ")"
   ]
  },
  {
   "cell_type": "markdown",
   "metadata": {},
   "source": [
    "Inseriamo i dati in un dizionario nel formato atteso da Stan."
   ]
  },
  {
   "cell_type": "code",
   "execution_count": 14,
   "metadata": {},
   "outputs": [],
   "source": [
    "stan_data = {\n",
    "    \"N\": len(canoeing_data[\"accuracy\"]), \n",
    "    \"y\": canoeing_data[\"is_error\"]\n",
    "}"
   ]
  },
  {
   "cell_type": "markdown",
   "metadata": {},
   "source": [
    "Compiliamo e stampiamo il codice Stan che assume che i dati seguano una distribuzione di Poisson, considerando che le prove siano indipendenti tra loro."
   ]
  },
  {
   "cell_type": "code",
   "execution_count": 15,
   "metadata": {},
   "outputs": [
    {
     "name": "stdout",
     "output_type": "stream",
     "text": [
      "data {\n",
      "  int<lower=0> N; // Number of trials\n",
      "  array[N] int<lower=0> y; // Number of errors in each trial (could be 0 or 1)\n",
      "}\n",
      "parameters {\n",
      "  real<lower=0> lambda; // Rate parameter for the Poisson distribution\n",
      "}\n",
      "model {\n",
      "  // Weak prior on lambda\n",
      "  lambda ~ normal(0, 10);\n",
      "  \n",
      "  // Likelihood: Poisson distribution\n",
      "  y ~ poisson(lambda);\n",
      "}\n",
      "generated quantities {\n",
      "  vector[N] log_lik; // Log-likelihood for each observation\n",
      "  for (n in 1 : N) {\n",
      "    log_lik[n] = poisson_lpmf(y[n] | lambda);\n",
      "  }\n",
      "}\n",
      "\n"
     ]
    }
   ],
   "source": [
    "stan_file = os.path.join(\n",
    "    project_directory, 'stan', 'canoeing_poisson_model.stan')\n",
    "\n",
    "poisson_model = CmdStanModel(stan_file=stan_file)\n",
    "print(poisson_model.code())"
   ]
  },
  {
   "cell_type": "markdown",
   "metadata": {},
   "source": [
    "Nella sezione `model`, l'istruzione `lambda ~ normal(0, 10);` definisce un prior per il parametro `lambda`, che è il parametro della distribuzione di Poisson. Viene assunto un priore normale debole con media 0 e deviazione standard 10, che riflette l'ipotesi che `lambda` possa prendere qualsiasi valore positivo con una leggera preferenza per valori vicini a zero.\n",
    "\n",
    "L'istruzione `y ~ poisson(lambda);` definisce la `likelihood`, ovvero la probabilità di osservare i dati `y` dati i parametri del modello. In questo caso, si assume che i dati seguano una distribuzione di Poisson con parametro `lambda`, che rappresenta la media (e varianza) del numero di errori nelle prove. L'assunzione qui è che ogni prova sia indipendente dalle altre e che il numero di errori in ciascuna prova sia distribuito secondo una Poisson.\n",
    "\n",
    "Nella sezione `generated quantities`, l'istruzione `vector[N] log_lik;` crea un vettore per memorizzare i valori del log-likelihood per ciascuna delle `N` osservazioni. \n",
    "  \n",
    "L'istruzione `for (n in 1:N) { log_lik[n] = poisson_lpmf(y[n] | lambda); }`, mediante un ciclo `for` calcola la log-verosimiglianza per ogni singola osservazione `y[n]` rispetto alla distribuzione di Poisson con il parametro `lambda`. La funzione `poisson_lpmf` calcola la log-probability mass function (log-PMF) della distribuzione di Poisson per un dato valore `y[n]` e un parametro `lambda`. Il risultato è un vettore `log_lik` che contiene la log-verosimiglianza di ciascuna osservazione. Questo è richiesto per effettuare confronti tra modelli usando la Leave-One-Out Cross-Validation (LOO).\n",
    "\n",
    "Eseguiamo il campionamento."
   ]
  },
  {
   "cell_type": "code",
   "execution_count": 17,
   "metadata": {},
   "outputs": [],
   "source": [
    "fit_poisson = poisson_model.sample(\n",
    "    data=stan_data,\n",
    "    iter_warmup=2_000,\n",
    "    iter_sampling=2_000,\n",
    "    seed=42,\n",
    "    show_progress=False, \n",
    "    show_console=False\n",
    ")"
   ]
  },
  {
   "cell_type": "markdown",
   "metadata": {},
   "source": [
    "Esaminiamo le distribuzioni a posteriori."
   ]
  },
  {
   "cell_type": "code",
   "execution_count": 18,
   "metadata": {},
   "outputs": [
    {
     "data": {
      "text/html": [
       "<div>\n",
       "<style scoped>\n",
       "    .dataframe tbody tr th:only-of-type {\n",
       "        vertical-align: middle;\n",
       "    }\n",
       "\n",
       "    .dataframe tbody tr th {\n",
       "        vertical-align: top;\n",
       "    }\n",
       "\n",
       "    .dataframe thead th {\n",
       "        text-align: right;\n",
       "    }\n",
       "</style>\n",
       "<table border=\"1\" class=\"dataframe\">\n",
       "  <thead>\n",
       "    <tr style=\"text-align: right;\">\n",
       "      <th></th>\n",
       "      <th>mean</th>\n",
       "      <th>sd</th>\n",
       "      <th>hdi_3%</th>\n",
       "      <th>hdi_97%</th>\n",
       "      <th>mcse_mean</th>\n",
       "      <th>mcse_sd</th>\n",
       "      <th>ess_bulk</th>\n",
       "      <th>ess_tail</th>\n",
       "      <th>r_hat</th>\n",
       "    </tr>\n",
       "  </thead>\n",
       "  <tbody>\n",
       "    <tr>\n",
       "      <th>lambda</th>\n",
       "      <td>0.09</td>\n",
       "      <td>0.0</td>\n",
       "      <td>0.09</td>\n",
       "      <td>0.09</td>\n",
       "      <td>0.0</td>\n",
       "      <td>0.0</td>\n",
       "      <td>3036.8</td>\n",
       "      <td>3682.58</td>\n",
       "      <td>1.0</td>\n",
       "    </tr>\n",
       "  </tbody>\n",
       "</table>\n",
       "</div>"
      ],
      "text/plain": [
       "        mean   sd  hdi_3%  hdi_97%  mcse_mean  mcse_sd  ess_bulk  ess_tail  \\\n",
       "lambda  0.09  0.0    0.09     0.09        0.0      0.0    3036.8   3682.58   \n",
       "\n",
       "        r_hat  \n",
       "lambda    1.0  "
      ]
     },
     "execution_count": 18,
     "metadata": {},
     "output_type": "execute_result"
    }
   ],
   "source": [
    "az.summary(fit_poisson, var_names=[\"lambda\"], round_to=2)"
   ]
  },
  {
   "cell_type": "markdown",
   "metadata": {},
   "source": [
    "Convertiamo l'oggetto creato da cmdstanpy nella classe `InferenceData` richiesta da ArviZ:"
   ]
  },
  {
   "cell_type": "code",
   "execution_count": 20,
   "metadata": {},
   "outputs": [],
   "source": [
    "fit_poisson_az = az.from_cmdstanpy(posterior=fit_poisson)"
   ]
  },
  {
   "cell_type": "markdown",
   "metadata": {},
   "source": [
    "Eseguiamo la validazione incrociata Leave-One-Out (LOO-CV) utilizzando ArviZ:"
   ]
  },
  {
   "cell_type": "code",
   "execution_count": 21,
   "metadata": {},
   "outputs": [
    {
     "name": "stdout",
     "output_type": "stream",
     "text": [
      "Computed from 8000 posterior samples and 66413 observations log-likelihood matrix.\n",
      "\n",
      "         Estimate       SE\n",
      "elpd_loo -20564.93   177.70\n",
      "p_loo        0.92        -\n",
      "------\n",
      "\n",
      "Pareto k diagnostic values:\n",
      "                         Count   Pct.\n",
      "(-Inf, 0.5]   (good)     66413  100.0%\n",
      " (0.5, 0.7]   (ok)           0    0.0%\n",
      "   (0.7, 1]   (bad)          0    0.0%\n",
      "   (1, Inf)   (very bad)     0    0.0%\n",
      "\n"
     ]
    }
   ],
   "source": [
    "loo_poisson_result = az.loo(fit_poisson_az)\n",
    "print(loo_poisson_result)"
   ]
  },
  {
   "cell_type": "markdown",
   "metadata": {},
   "source": [
    "Tutti i valori di Pareto $k$ sono molto bassi, indicando che nessuna osservazione ha un'influenza eccessiva sulle stime del modello. Di conseguenza, non vi è alcuna evidenza che la stima dell'ELPD, che in questo caso è pari a -20564.93, possa essere distorta. \n",
    "\n",
    "Ora calcoleremo l'ELPD per il modello che assume un processo di Markov di primo ordine. Questo modello considera una dipendenza temporale tra le prove, in cui la probabilità di commettere un errore dipende dal risultato della prova precedente. In particolare, il modello stabilisce che la probabilità di una risposta errata in una prova dipende dal fatto che la risposta precedente sia stata corretta o errata.\n",
    "\n",
    "Compiliamo e stampiamo il modello `canoeing_markov_model.stan`."
   ]
  },
  {
   "cell_type": "code",
   "execution_count": 22,
   "metadata": {},
   "outputs": [
    {
     "name": "stdout",
     "output_type": "stream",
     "text": [
      "data {\n",
      "  int<lower=0> N; // Number of trials\n",
      "  array[N] int<lower=0, upper=1> y; // Sequence of errors (0 = correct, 1 = error)\n",
      "}\n",
      "parameters {\n",
      "  real<lower=0, upper=1> p_error_given_error; // Probability of error given previous error\n",
      "  real<lower=0, upper=1> p_error_given_correct; // Probability of error given previous correct\n",
      "  real<lower=0, upper=1> p_initial_error; // Initial probability of error\n",
      "}\n",
      "model {\n",
      "  // Implicit weak priors on parameters\n",
      "  \n",
      "  // Likelihood for the first trial\n",
      "  y[1] ~ bernoulli(p_initial_error);\n",
      "  \n",
      "  // Likelihood for the rest of the trials\n",
      "  for (n in 2 : N) {\n",
      "    if (y[n - 1] == 1) {\n",
      "      y[n] ~ bernoulli(p_error_given_error);\n",
      "    } else {\n",
      "      y[n] ~ bernoulli(p_error_given_correct);\n",
      "    }\n",
      "  }\n",
      "}\n",
      "generated quantities {\n",
      "  vector[N] log_lik; // Log-likelihood for each observation\n",
      "  log_lik[1] = bernoulli_lpmf(y[1] | p_initial_error);\n",
      "  for (n in 2 : N) {\n",
      "    if (y[n - 1] == 1) {\n",
      "      log_lik[n] = bernoulli_lpmf(y[n] | p_error_given_error);\n",
      "    } else {\n",
      "      log_lik[n] = bernoulli_lpmf(y[n] | p_error_given_correct);\n",
      "    }\n",
      "  }\n",
      "}\n",
      "\n"
     ]
    }
   ],
   "source": [
    "stan_file = os.path.join(project_directory, \"stan\", \"canoeing_markov_model.stan\")\n",
    "\n",
    "markov_model = CmdStanModel(stan_file=stan_file)\n",
    "print(markov_model.code())"
   ]
  },
  {
   "cell_type": "markdown",
   "metadata": {},
   "source": [
    "Questo codice Stan modella una sequenza di prove in cui ogni prova può essere corretta (`0`) o errata (`1`). Questo modello assume una *dipendenza temporale* tra le prove, basata su un *processo di Markov di primo ordine*. Ciò significa che la probabilità di errore in una prova dipende solo dal risultato della prova precedente.\n",
    "\n",
    "Nella sezione `model`, i parametri `p_error_given_error`, `p_error_given_correct` e `p_initial_error` hanno priors impliciti deboli poiché sono definiti con limiti tra 0 e 1. Non sono stati specificati priors espliciti, quindi Stan utilizzerà prior uniformi su questi parametri.\n",
    "\n",
    "Il primo elemento della sequenza `y[1]` rappresenta la prima prova. Qui, viene modellata la probabilità che questa prova sia un errore utilizzando una distribuzione di Bernoulli con probabilità `p_initial_error`.\n",
    "\n",
    "Per tutte le prove successive (dal secondo elemento in poi), il modello assume che la probabilità di errore (`y[n] = 1`) dipenda dal risultato della prova precedente:\n",
    "\n",
    "  - Se la prova precedente (`y[n-1]`) è stata un errore (`1`), allora la probabilità di errore nella prova attuale è `p_error_given_error`.\n",
    "  - Se la prova precedente è stata corretta (`0`), allora la probabilità di errore nella prova attuale è `p_error_given_correct`.\n",
    "\n",
    "  Questo riflette l'idea che l'esito di una prova sia condizionato dallo stato immediatamente precedente, tipico di un processo di Markov di primo ordine.\n",
    "\n",
    "La sezione `generated quantities` viene utilizzata per calcolare quantità derivate dai parametri stimati, in questo caso, il **log-likelihood** per ogni osservazione.\n",
    "\n",
    "- *Primo Log-Likelihood*: Per la prima prova (`y[1]`), il log-likelihood è calcolato usando `p_initial_error`, poiché questa prova non ha una dipendenza da prove precedenti.\n",
    "\n",
    "- *Log-Likelihood delle Prove Successive*: Per tutte le prove successive, il log-likelihood è calcolato in base all'esito della prova precedente, utilizzando `p_error_given_error` o `p_error_given_correct` a seconda che la prova precedente sia stata un errore o un successo. Il calcolo del log-likelihood utilizza la funzione `bernoulli_lpmf`, che restituisce il logaritmo della probabilità della funzione di massa della distribuzione Bernoulli per i dati osservati.\n",
    "\n",
    "I valori del log-likelihood sono memorizzati nel vettore `log_lik` che verrà usato per valutare il modello attraverso la validazione incrociata LOO. \n",
    "\n",
    "In sintesi, il modello rappresenta un processo di Markov di primo ordine in cui l'esito di una prova dipende dall'esito della prova precedente. La sezione `generated quantities` calcola il log-likelihood per ciascuna osservazione, consentendo di valutare e confrontare il modello utilizzando la tecnica bayesiana della validazione incrociata LOO.\n",
    "\n",
    "Eseguiamo il campionamento."
   ]
  },
  {
   "cell_type": "code",
   "execution_count": 23,
   "metadata": {},
   "outputs": [],
   "source": [
    "fit_markov = markov_model.sample(\n",
    "    data=stan_data,\n",
    "    iter_warmup=2_000,\n",
    "    iter_sampling=2_000,\n",
    "    seed=42,\n",
    "    show_progress=False,\n",
    "    show_console=False,\n",
    ")"
   ]
  },
  {
   "cell_type": "markdown",
   "metadata": {},
   "source": [
    "Esaminiamo le stime a posteriori dei parametri del modello."
   ]
  },
  {
   "cell_type": "code",
   "execution_count": 30,
   "metadata": {},
   "outputs": [
    {
     "data": {
      "text/html": [
       "<div>\n",
       "<style scoped>\n",
       "    .dataframe tbody tr th:only-of-type {\n",
       "        vertical-align: middle;\n",
       "    }\n",
       "\n",
       "    .dataframe tbody tr th {\n",
       "        vertical-align: top;\n",
       "    }\n",
       "\n",
       "    .dataframe thead th {\n",
       "        text-align: right;\n",
       "    }\n",
       "</style>\n",
       "<table border=\"1\" class=\"dataframe\">\n",
       "  <thead>\n",
       "    <tr style=\"text-align: right;\">\n",
       "      <th></th>\n",
       "      <th>mean</th>\n",
       "      <th>sd</th>\n",
       "      <th>hdi_3%</th>\n",
       "      <th>hdi_97%</th>\n",
       "      <th>mcse_mean</th>\n",
       "      <th>mcse_sd</th>\n",
       "      <th>ess_bulk</th>\n",
       "      <th>ess_tail</th>\n",
       "      <th>r_hat</th>\n",
       "    </tr>\n",
       "  </thead>\n",
       "  <tbody>\n",
       "    <tr>\n",
       "      <th>p_error_given_error</th>\n",
       "      <td>0.18</td>\n",
       "      <td>0.0</td>\n",
       "      <td>0.17</td>\n",
       "      <td>0.19</td>\n",
       "      <td>0.0</td>\n",
       "      <td>0.0</td>\n",
       "      <td>7522.48</td>\n",
       "      <td>5864.69</td>\n",
       "      <td>1.0</td>\n",
       "    </tr>\n",
       "    <tr>\n",
       "      <th>p_error_given_correct</th>\n",
       "      <td>0.08</td>\n",
       "      <td>0.0</td>\n",
       "      <td>0.08</td>\n",
       "      <td>0.08</td>\n",
       "      <td>0.0</td>\n",
       "      <td>0.0</td>\n",
       "      <td>7353.13</td>\n",
       "      <td>5562.07</td>\n",
       "      <td>1.0</td>\n",
       "    </tr>\n",
       "  </tbody>\n",
       "</table>\n",
       "</div>"
      ],
      "text/plain": [
       "                       mean   sd  hdi_3%  hdi_97%  mcse_mean  mcse_sd  \\\n",
       "p_error_given_error    0.18  0.0    0.17     0.19        0.0      0.0   \n",
       "p_error_given_correct  0.08  0.0    0.08     0.08        0.0      0.0   \n",
       "\n",
       "                       ess_bulk  ess_tail  r_hat  \n",
       "p_error_given_error     7522.48   5864.69    1.0  \n",
       "p_error_given_correct   7353.13   5562.07    1.0  "
      ]
     },
     "execution_count": 30,
     "metadata": {},
     "output_type": "execute_result"
    }
   ],
   "source": [
    "az.summary(\n",
    "    fit_markov, var_names=[\"p_error_given_error\", \"p_error_given_correct\"], round_to=2\n",
    ")"
   ]
  },
  {
   "cell_type": "markdown",
   "metadata": {},
   "source": [
    "Calcoliamo l'ELPD con il metodo LOO-CV."
   ]
  },
  {
   "cell_type": "code",
   "execution_count": 25,
   "metadata": {},
   "outputs": [
    {
     "name": "stdout",
     "output_type": "stream",
     "text": [
      "Computed from 8000 posterior samples and 66413 observations log-likelihood matrix.\n",
      "\n",
      "         Estimate       SE\n",
      "elpd_loo -20035.74   169.65\n",
      "p_loo        2.33        -\n",
      "------\n",
      "\n",
      "Pareto k diagnostic values:\n",
      "                         Count   Pct.\n",
      "(-Inf, 0.5]   (good)     66413  100.0%\n",
      " (0.5, 0.7]   (ok)           0    0.0%\n",
      "   (0.7, 1]   (bad)          0    0.0%\n",
      "   (1, Inf)   (very bad)     0    0.0%\n",
      "\n"
     ]
    }
   ],
   "source": [
    "# Convert CmdStanPy fit to ArviZ InferenceData\n",
    "fit_markov_az = az.from_cmdstanpy(posterior=fit_markov)\n",
    "\n",
    "# Perform LOO-CV using ArviZ\n",
    "loo_markov_result = az.loo(fit_markov_az)\n",
    "print(loo_markov_result)"
   ]
  },
  {
   "cell_type": "markdown",
   "id": "92b778c1-4fe1-4727-b212-07683299f8a2",
   "metadata": {},
   "source": [
    "Infine, calcoliamo la differenza tra le stime dell'ELPD (`elpd_diff`) dei due modelli. L'incertezza associata a questa differenza è espressa dal suo errore standard (`dse`). Se il rapporto tra `elpd_diff` e `dse` è pari o superiore a 2, possiamo concludere che esiste una differenza credibile tra i due modelli."
   ]
  },
  {
   "cell_type": "code",
   "execution_count": 26,
   "metadata": {},
   "outputs": [
    {
     "data": {
      "text/html": [
       "<div>\n",
       "<style scoped>\n",
       "    .dataframe tbody tr th:only-of-type {\n",
       "        vertical-align: middle;\n",
       "    }\n",
       "\n",
       "    .dataframe tbody tr th {\n",
       "        vertical-align: top;\n",
       "    }\n",
       "\n",
       "    .dataframe thead th {\n",
       "        text-align: right;\n",
       "    }\n",
       "</style>\n",
       "<table border=\"1\" class=\"dataframe\">\n",
       "  <thead>\n",
       "    <tr style=\"text-align: right;\">\n",
       "      <th></th>\n",
       "      <th>rank</th>\n",
       "      <th>elpd_loo</th>\n",
       "      <th>p_loo</th>\n",
       "      <th>elpd_diff</th>\n",
       "      <th>weight</th>\n",
       "      <th>se</th>\n",
       "      <th>dse</th>\n",
       "      <th>warning</th>\n",
       "      <th>scale</th>\n",
       "    </tr>\n",
       "  </thead>\n",
       "  <tbody>\n",
       "    <tr>\n",
       "      <th>markov_model</th>\n",
       "      <td>0</td>\n",
       "      <td>-20035.737644</td>\n",
       "      <td>2.332125</td>\n",
       "      <td>0.000000</td>\n",
       "      <td>1.0</td>\n",
       "      <td>169.648636</td>\n",
       "      <td>0.000000</td>\n",
       "      <td>False</td>\n",
       "      <td>log</td>\n",
       "    </tr>\n",
       "    <tr>\n",
       "      <th>poisson_model</th>\n",
       "      <td>1</td>\n",
       "      <td>-20564.931364</td>\n",
       "      <td>0.924353</td>\n",
       "      <td>529.193719</td>\n",
       "      <td>0.0</td>\n",
       "      <td>177.702690</td>\n",
       "      <td>25.801837</td>\n",
       "      <td>False</td>\n",
       "      <td>log</td>\n",
       "    </tr>\n",
       "  </tbody>\n",
       "</table>\n",
       "</div>"
      ],
      "text/plain": [
       "               rank      elpd_loo     p_loo   elpd_diff  weight          se  \\\n",
       "markov_model      0 -20035.737644  2.332125    0.000000     1.0  169.648636   \n",
       "poisson_model     1 -20564.931364  0.924353  529.193719     0.0  177.702690   \n",
       "\n",
       "                     dse  warning scale  \n",
       "markov_model    0.000000    False   log  \n",
       "poisson_model  25.801837    False   log  "
      ]
     },
     "execution_count": 26,
     "metadata": {},
     "output_type": "execute_result"
    }
   ],
   "source": [
    "df_comp_loo = az.compare({\n",
    "    \"poisson_model\": loo_poisson_result, \n",
    "    \"markov_model\": loo_markov_result\n",
    "})\n",
    "df_comp_loo"
   ]
  },
  {
   "cell_type": "code",
   "execution_count": 27,
   "id": "4ce8b961-d93d-4f8b-8a5b-1cab1dccab6c",
   "metadata": {},
   "outputs": [
    {
     "data": {
      "image/png": "[encoded data removed]",
      "text/plain": [
       "<Figure size 600x200 with 1 Axes>"
      ]
     },
     "metadata": {
      "image/png": {
       "height": 211,
       "width": 611
      }
     },
     "output_type": "display_data"
    }
   ],
   "source": [
    "_ = az.plot_compare(df_comp_loo, insample_dev=False)"
   ]
  },
  {
   "cell_type": "markdown",
   "metadata": {},
   "source": [
    "La differenza tra le stime dell'ELPD dei due modelli indica chiaramente che il modello che assume una dipendenza temporale tra le prove, qui modellizzata nei termini di un semplice processo di Markov di primo grado, è più adatto per i dati presenti che un modello di Poisson che assume che le prove siano tra loro indipendenti.\n",
    "\n",
    "Una volta stabilito che le prove mostrano una dipendenza temporale, si tratta di capire se la prestazione post-errore sia migliore o peggiore rispetto alla prestazione post-corretta.\n",
    "\n",
    "Il modello di Markov di primo ordine assume che la probabilità di commettere un errore in una prova dipenda dall'esito della prova precedente. Qui abbiamo due parametri principali:\n",
    "\n",
    "   - `p_error_given_error`: La probabilità di commettere un errore dato che l'ultima prova è stata un errore.\n",
    "   - `p_error_given_correct`: La probabilità di commettere un errore dato che l'ultima prova è stata corretta.\n",
    "\n",
    "Dai dati ottenuti:\n",
    "\n",
    "- `p_error_given_error` = 0.18: Significa che, se un atleta ha commesso un errore nella prova precedente, la probabilità di commettere un altro errore nella prova successiva è del 18%.\n",
    "- `p_error_given_correct` = 0.08: Significa che, se un atleta ha eseguito correttamente la prova precedente, la probabilità di commettere un errore nella prova successiva è dell'8%.\n",
    "\n",
    "Questa differenza tra `p_error_given_error` e `p_error_given_correct` suggerisce che gli atleti hanno una probabilità maggiore di commettere un errore se hanno appena commesso un errore rispetto a quando hanno eseguito correttamente la prova precedente. Questo è un chiaro segnale che esiste una *dipendenza temporale* tra le prove, che il modello di Markov cattura meglio rispetto al modello di Poisson.\n",
    "\n",
    "Dal riepilogo dei dati si ottiene:\n",
    "\n",
    "- Proporzione di risposte corrette dopo un errore: 0.819.\n",
    "- Proporzione di risposte corrette dopo una prova corretta: 0.916."
   ]
  },
  {
   "cell_type": "code",
   "execution_count": 51,
   "metadata": {},
   "outputs": [
    {
     "name": "stdout",
     "output_type": "stream",
     "text": [
      "   lagged_accuracy  correct_trials  total_trials  proportion_correct\n",
      "0              0.0            4828          5898               0.819\n",
      "1              1.0           54368         59338               0.916\n"
     ]
    }
   ],
   "source": [
    "# Step 1: Ordinare per atleta, run, e n_gate per garantire un corretto lagging\n",
    "canoeing_data = canoeing_data.sort_values(by=[\"athlete\", \"run\", \"n_gate\"])\n",
    "\n",
    "# Creare la colonna lagged_accuracy\n",
    "canoeing_data[\"lagged_accuracy\"] = canoeing_data.groupby([\"athlete\", \"run\"])[\n",
    "    \"accuracy\"\n",
    "    ].shift(1)\n",
    "\n",
    "# Step 2: Riassumere la proporzione di prove corrette dopo una risposta corretta o un errore\n",
    "# Rimuovere le righe dove lagged_accuracy è NaN (ad esempio, la prima prova di ogni run)\n",
    "df_filtered = canoeing_data.dropna(subset=[\"lagged_accuracy\"])\n",
    "\n",
    "# Raggruppare per lagged_accuracy e calcolare le proporzioni\n",
    "proportions = (\n",
    "    df_filtered.groupby(\"lagged_accuracy\")\n",
    "    .agg(correct_trials=(\"accuracy\", \"sum\"), total_trials=(\"accuracy\", \"size\"))\n",
    "    .reset_index()\n",
    ")\n",
    "\n",
    "proportions[\"proportion_correct\"] = (\n",
    "    proportions[\"correct_trials\"] / proportions[\"total_trials\"]\n",
    ").round(3)\n",
    "\n",
    "# Stampare il risultato\n",
    "print(proportions)"
   ]
  },
  {
   "cell_type": "markdown",
   "metadata": {},
   "source": [
    "Questa differenza indica chiaramente che la prestazione dell'atleta peggiora dopo aver commesso un errore: è infatti più probabile che l'atleta commetta un altro errore subito dopo.\n",
    "\n",
    "In conclusione, l'accuratezza dell'atleta tende a diminuire dopo un errore. Questo è meglio rappresentato dal modello di Markov, che evidenzia una probabilità maggiore di commettere un errore dopo un errore precedente rispetto a dopo una prova corretta. Al contrario, il modello di Poisson, che presuppone l'indipendenza tra le prove, non riesce a catturare adeguatamente questa dinamica, risultando quindi meno adatto per descrivere i tuoi dati.\n",
    "\n",
    "Inoltre, l'intervallo di credibilità al 94% dei parametri `p_error_given_error` e `p_error_given_correct` non si sovrappone, il che supporta l'idea che queste due condizioni siano credibilmente diverse."
   ]
  },
  {
   "cell_type": "markdown",
   "id": "b318aa0d-78b8-4f73-80e0-117f3ccfb08f",
   "metadata": {},
   "source": [
    "## Riflessioni Conclusive\n",
    "\n",
    "Questo esercizio ci ha permesso di introdurre i modelli dinamici attraverso l'utilizzo di un processo di Markov di primo ordine per confrontare due teorie psicologiche che descrivono la prestazione post-errore: le teorie funzionali (@botvinick2001conflict), che prevedono un miglioramento della prestazione dopo un errore, e le teorie non funzionali (@notebaert2009post), che suggeriscono un peggioramento della prestazione in seguito a un errore.\n",
    "\n",
    "Abbiamo utilizzato dati relativi alle prestazioni di atleti in eventi sportivi ufficiali per mettere alla prova queste teorie. Questi dati sono particolarmente interessanti rispetto a quelli raccolti in ambienti di laboratorio, poiché riflettono il comportamento reale degli individui in situazioni in cui gli errori hanno conseguenze significative.\n",
    "\n",
    "In questo tutorial, abbiamo inizialmente considerato l'ipotesi che non vi fosse dipendenza temporale nelle prestazioni degli atleti, assumendo che gli errori fossero indipendenti nella sequenza delle prove. Questa ipotesi, che contrasta con entrambe le teorie funzionali e non funzionali, è stata implementata nel modello di Poisson, il quale presuppone l'indipendenza tra le prove.\n",
    "\n",
    "Confrontando i modelli tramite la differenza nell'ELPD (Expected Log Predictive Density), abbiamo dimostrato che il modello semplice di Poisson può essere respinto e che i dati sono descritti in modo molto più accurato da un modello che assume una dipendenza temporale nelle prestazioni degli atleti. Il modello che incorpora questa ipotesi è un processo di Markov di primo ordine, che tiene conto dell'influenza della prova precedente sulla performance successiva.\n",
    "\n",
    "Per confrontare le teorie funzionali e non funzionali post-errore, è stato fondamentale determinare la direzione della differenza nella prestazione post-errore: questa differenza indica un miglioramento o un peggioramento delle prestazioni?\n",
    "\n",
    "Le statistiche descrittive hanno mostrato un peggioramento della prestazione post-errore. L'inferenza bayesiana, calcolando l'intervallo di credibilità al 94% per i parametri `p_error_given_error` e `p_error_given_correct`, ha confermato che questa differenza è credibile.\n",
    "\n",
    "Possiamo quindi concludere che i dati relativi agli atleti nelle competizioni di alto livello di canoa slalom supportano le teorie non funzionali post-errore.\n",
    "\n",
    "È importante, tuttavia, considerare alcune limitazioni di questa analisi.\n",
    "\n",
    "Innanzitutto, il modello di Markov di primo ordine che abbiamo utilizzato non tiene conto del clustering delle prove, cioè del fatto che i dati provengono da atleti diversi. Ogni atleta ha caratteristiche uniche, e le prove all'interno della sequenza di un singolo atleta sono più simili tra loro rispetto a quelle di atleti diversi. Per semplicità, questo aspetto dei dati non è stato modellizzato. Un'analisi più approfondita richiederebbe l'uso di un modello gerarchico bayesiano, che, sebbene non necessario per gli scopi di questo tutorial, sarebbe più appropriato per un'analisi completa.\n",
    "\n",
    "Inoltre, i dati presentano una questione più complessa. Abbiamo utilizzato questi dati per testare modelli psicologici che assumono che l'elaborazione delle informazioni e il comportamento restino coerenti dopo una prova corretta o un errore nella prova precedente. Tuttavia, questa assunzione potrebbe non essere valida nel contesto del canoa slalom. Se un atleta commette un errore, ciò potrebbe influenzare la posizione della canoa, rendendo più difficile o più facile superare la porta successiva. Questo potrebbe aumentare la probabilità di commettere un ulteriore errore o, in alcuni casi, ridurla. Per esplorare ulteriormente questo aspetto, sarebbe necessario analizzare i video delle prove, ma tale indagine va oltre gli obiettivi di questo tutorial.\n",
    "\n",
    "Infine, non abbiamo analizzato schemi più complessi, come un peggioramento iniziale seguito da un successivo miglioramento, che potrebbero sostenere modelli integrativi come quello proposto da @danielmeier2011post.\n",
    "\n",
    "In conclusione, nonostante le potenziali limitazioni di questo studio, i dati raccolti offrono un supporto maggiore alle teorie non funzionali rispetto a quelle funzionali della performance post-errore, specialmente quando si considerano dati reali sulle prestazioni di atleti di alto livello. Inoltre, indicano chiaramente che, almeno nel contesto esaminato, esiste una marcata dipendenza temporale tra le prove di una competizione atletica di alto livello."
   ]
  },
  {
   "cell_type": "markdown",
   "id": "d72cccc5-45c3-490e-9350-4784000555a9",
   "metadata": {},
   "source": [
    "## Informazioni sull'Ambiente di Sviluppo {.unnumbered}"
   ]
  },
  {
   "cell_type": "code",
   "execution_count": 24,
   "id": "f8e66e80-23a6-444f-9107-c91518f69c09",
   "metadata": {},
   "outputs": [
    {
     "name": "stdout",
     "output_type": "stream",
     "text": [
      "Last updated: Sat Jul 13 2024\n",
      "\n",
      "Python implementation: CPython\n",
      "Python version       : 3.12.3\n",
      "IPython version      : 8.25.0\n",
      "\n",
      "pingouin  : 0.5.4\n",
      "logging   : 0.5.1.2\n",
      "numpy     : 1.26.4\n",
      "arviz     : 0.18.0\n",
      "cmdstanpy : 1.2.3\n",
      "matplotlib: 3.8.4\n",
      "pandas    : 2.2.2\n",
      "scipy     : 1.13.1\n",
      "\n",
      "Watermark: 2.4.3\n",
      "\n"
     ]
    }
   ],
   "source": [
    "%load_ext watermark\n",
    "%watermark -n -u -v -iv -w "
   ]
  }
 ],
 "metadata": {
  "kernelspec": {
   "display_name": "pymc5_env",
   "language": "python",
   "name": "python3"
  },
  "language_info": {
   "codemirror_mode": {
    "name": "ipython",
    "version": 3
   },
   "file_extension": ".py",
   "mimetype": "text/x-python",
   "name": "python",
   "nbconvert_exporter": "python",
   "pygments_lexer": "ipython3",
   "version": "3.12.4"
  }
 },
 "nbformat": 4,
 "nbformat_minor": 2
}
