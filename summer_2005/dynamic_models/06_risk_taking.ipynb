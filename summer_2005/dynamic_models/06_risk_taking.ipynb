{
 "cells": [
  {
   "cell_type": "markdown",
   "metadata": {},
   "source": [
    "# TODO -- Propensione al rischio {#sec-risk-taking}"
   ]
  },
  {
   "cell_type": "markdown",
   "metadata": {},
   "source": [
    "**Prerequisiti**\n",
    "\n",
    "- Leggere *Analyzing sequence data with Markov chain models in scientific experiments* di @paxinou2021analyzing.\n",
    "- Leggere l'@sec-appendix-markov-first-order.\n",
    "\n",
    "**Concetti e competenze chiave**\n",
    "\n",
    "**Preparazione del Notebook**"
   ]
  },
  {
   "cell_type": "code",
   "execution_count": 1,
   "metadata": {},
   "outputs": [],
   "source": [
    "import os\n",
    "import itertools\n",
    "import logging\n",
    "import pandas as pd\n",
    "import numpy as np\n",
    "import matplotlib.pyplot as plt\n",
    "import arviz as az\n",
    "from scipy import stats\n",
    "import bambi as bmb\n",
    "import cmdstanpy\n",
    "from cmdstanpy import CmdStanModel\n",
    "cmdstanpy.utils.get_logger().setLevel(logging.ERROR)\n",
    "import networkx as nx\n",
    "import warnings\n",
    "\n",
    "warnings.simplefilter(action=\"ignore\")"
   ]
  },
  {
   "cell_type": "code",
   "execution_count": 2,
   "metadata": {},
   "outputs": [],
   "source": [
    "seed: int = sum(map(ord, \"stan_paxinou\"))\n",
    "rng: np.random.Generator = np.random.default_rng(seed=seed)\n",
    "az.style.use(\"arviz-darkgrid\")\n",
    "%config InlineBackend.figure_format = \"retina\"\n",
    "\n",
    "# Get the home directory\n",
    "home_directory = os.path.expanduser(\"~\")\n",
    "# Construct the path to the Quarto project directory \n",
    "project_directory = os.path.join(home_directory, '_repositories', 'psicometria')"
   ]
  },
  {
   "cell_type": "markdown",
   "metadata": {},
   "source": [
    "## Introduzione\n",
    "\n",
    "TODO immaginare un compito sensato dal punto di vista psicologico e descrivere il meccanismo generativo dei dati.\n",
    "\n",
    "LIMITI: la soluzione proposta è troppo simile al Rescorla-Wagner.\n",
    "\n",
    "Nel compito sperimentale ipotizzato, i partecipanti devono scegliere ripetutamente tra due opzioni: un compito facile e un compito difficile. Il feedback ricevuto in ogni prova dipende dalla difficoltà del compito scelto nella prova precedente e dalla prestazione del partecipante.\n",
    "\n",
    "1. **Compito Facile**: \n",
    "   - Se un partecipante sceglie il compito facile, il feedback può essere positivo (+1) o negativo (-1). Questo feedback rappresenta un piccolo guadagno o una piccola perdita, rispettivamente, e riflette la prestazione del partecipante in un compito che ha bassa variabilità e basso rischio.\n",
    "\n",
    "2. **Compito Difficile**: \n",
    "   - Se il partecipante sceglie il compito difficile, il feedback è molto più variabile. C'è la possibilità di ottenere un guadagno significativo (+10) o una perdita sostanziale (-10), a seconda della prestazione del partecipante nella prova. Il compito difficile è progettato per avere un maggiore rischio, ma anche la potenzialità di ricompense più alte per stimolare una strategia più rischiosa e basata sull'apprendimento attivo.\n",
    "\n",
    "### Obiettivo del Compito e Differenze Individuali\n",
    "\n",
    "L'obiettivo dei partecipanti è accumulare il maggior numero di punti possibile. I partecipanti devono bilanciare il rischio e la ricompensa in base alle proprie inclinazioni personali e strategie di apprendimento. \n",
    "\n",
    "- **Strategia Cauta**: Alcuni partecipanti potrebbero preferire il compito facile per minimizzare il rischio di grandi perdite, adottando una strategia di esplorazione limitata che potrebbe riflettere una maggiore avversione al rischio.\n",
    "  \n",
    "- **Strategia Rischiosa**: Altri partecipanti potrebbero scegliere il compito difficile più frequentemente, cercando di massimizzare i guadagni potenziali, riflettendo una maggiore propensione al rischio e una strategia di esplorazione più ampia.\n",
    "\n",
    "### Domanda della Ricerca e Ipotesi\n",
    "\n",
    "Dal punto di vista psicologico, la ricerca mira a indagare le differenze individuali nella propensione al rischio all'interno del contesto dell'apprendimento e a collegare queste differenze con il successo accademico a lungo termine. L'ipotesi è che gli studenti che sono disposti a prendere rischi maggiori nel processo di apprendimento (come mostrato nel compito sperimentale scegliendo il compito difficile) siano anche quelli che sviluppano una comprensione più profonda del materiale e ottengano, nel tempo, migliori risultati accademici.\n",
    "\n",
    "### Modello Generativo dei Dati\n",
    "\n",
    "Per modellare i dati di questo esperimento e catturare le differenze individuali, possiamo utilizzare un modello che include:\n",
    "\n",
    "1. **Decisione di Scelta del Compito**:\n",
    "   - La probabilità che un partecipante scelga il compito difficile o facile al tempo $t$ può essere modellata usando una regressione logistica, in cui la scelta dipende dalla tendenza di base del partecipante a prendere rischi, dall'effetto della scelta precedente e dall'effetto del feedback ricevuto in precedenza.\n",
    "\n",
    "2. **Modellazione del Feedback**:\n",
    "   - Il feedback $f_t$ al tempo $t$ può essere modellato come una funzione della scelta precedente $y_{t-1}$ e della prestazione del partecipante. Per il compito facile, il feedback è determinato con minore variabilità. Per il compito difficile, il feedback ha una maggiore variabilità basata sulla prestazione, riflettendo le maggiori ricompense o perdite.\n",
    "\n",
    "3. **Modellazione della Prestazione e dell'Apprendimento**:\n",
    "   - L'apprendimento nel compito difficile può essere modellato come un processo in cui la prestazione migliora nel tempo con l'esposizione al rischio, permettendo di osservare come la propensione al rischio influenzi il miglioramento delle prestazioni e il feedback accumulato.\n",
    "\n",
    "### Implementazione del Modello in Stan\n",
    "\n",
    "L'implementazione Stan può essere modificata per riflettere queste caratteristiche:\n",
    "\n",
    "```stan\n",
    "data {\n",
    "  int<lower=1> N;  // numero di prove\n",
    "  int<lower=0, upper=1> y[N];  // scelte (0=facile, 1=difficile)\n",
    "}\n",
    "\n",
    "parameters {\n",
    "  real a;  // tendenza di base a scegliere il compito difficile\n",
    "  real b;  // effetto della scelta precedente\n",
    "  real c;  // effetto del feedback precedente\n",
    "  real<lower=0> sigma_easy;  // deviazione standard per il feedback del compito facile\n",
    "  real<lower=0> sigma_hard;  // deviazione standard per il feedback del compito difficile\n",
    "}\n",
    "\n",
    "transformed parameters {\n",
    "  real f[N];  // feedback per ciascuna prova\n",
    "  f[1] = 0;  // inizializzazione del feedback alla prima prova\n",
    "\n",
    "  for (t in 2:N) {\n",
    "    if (y[t-1] == 0) {  // Compito facile\n",
    "      f[t-1] = normal_rng(0, sigma_easy);\n",
    "    } else {  // Compito difficile\n",
    "      f[t-1] = normal_rng(0, sigma_hard);\n",
    "    }\n",
    "  }\n",
    "}\n",
    "\n",
    "model {\n",
    "  // Priori per i parametri del modello\n",
    "  a ~ normal(0, 1);\n",
    "  b ~ normal(0, 1);\n",
    "  c ~ normal(0, 1);\n",
    "  sigma_easy ~ normal(1, 0.5);  // Prior per deviazione standard del feedback facile\n",
    "  sigma_hard ~ normal(10, 5);  // Prior per deviazione standard del feedback difficile\n",
    "\n",
    "  for (t in 2:N) {\n",
    "    // Modello logit per la scelta\n",
    "    y[t] ~ bernoulli_logit(a + b * y[t-1] + c * f[t-1]);\n",
    "  }\n",
    "}\n",
    "```\n",
    "\n",
    "### Modifiche Aggiuntive e Considerazioni\n",
    "\n",
    "1. **Modellazione del Feedback Variabile**: Ora il feedback per il compito facile e difficile è modellato come distribuzioni normali con deviazioni standard diverse, riflettendo la variabilità nel feedback di ciascun tipo di compito.\n",
    "   \n",
    "2. **Parametri di Variabilità del Feedback**: I nuovi parametri `sigma_easy` e `sigma_hard` permettono al modello di catturare la variabilità intrinseca nel feedback dei compiti facili e difficili. Questi parametri possono essere associati a differenze individuali nelle reazioni ai feedback di diverse difficoltà.\n",
    "\n",
    "3. **Modellazione del Processo Decisionale**: La regressione logistica utilizza il feedback precedente e la scelta per determinare la probabilità di scegliere il compito difficile, catturando la dinamica decisionale basata sull'apprendimento e sul feedback.\n",
    "\n",
    "4. **Focus sul Successo Accademico**: Per collegare i comportamenti nel compito sperimentale con il successo accademico, si potrebbe includere una variabile di output aggiuntiva rappresentante le prestazioni accademiche e modellare questa variabile come dipendente dai parametri di scelta del rischio (ad esempio, usando un modello di regressione con il parametro `a` come predittore).\n",
    "\n",
    "### Conclusione\n",
    "\n",
    "Questa versione migliorata del modello e del compito sperimentale cattura più accuratamente l'idea di esplorare come le differenze individuali nella propensione al rischio influenzino l'apprendimento e il successo a lungo termine. È un modello flessibile che può essere ulteriormente esteso e raffinato per adattarsi ai dati specifici e alle domande di ricerca.\n",
    "\n",
    "### Formulazione Matematica del Modello Rivisitata\n",
    "\n",
    "Il feedback $f_t$ al tempo $t$ ora dipende dalla scelta $y_{t-1}$ al tempo $t-1$ e da un termine casuale $\\epsilon_t$ che determina il segno del feedback:\n",
    "\n",
    "\\[\n",
    "f_t = \n",
    "\\begin{cases} \n",
    "+1 & \\text{se } y_{t-1} = 0 \\text{ e } \\epsilon_t > 0 \\quad (\\text{compito facile, feedback positivo}) \\\\\n",
    "-1 & \\text{se } y_{t-1} = 0 \\text{ e } \\epsilon_t \\leq 0 \\quad (\\text{compito facile, feedback negativo}) \\\\\n",
    "+10 & \\text{se } y_{t-1} = 1 \\text{ e } \\epsilon_t > 0 \\quad (\\text{compito difficile, feedback positivo}) \\\\\n",
    "-10 & \\text{se } y_{t-1} = 1 \\text{ e } \\epsilon_t \\leq 0 \\quad (\\text{compito difficile, feedback negativo})\n",
    "\\end{cases}\n",
    "\\]\n",
    "\n",
    "dove $\\epsilon_t$ è un termine di errore casuale che determina il segno del feedback per entrambi i tipi di compito. Possiamo assumere che $\\epsilon_t$ sia una variabile aleatoria che segue una distribuzione standard normale o uniforme per semplificare la modellazione.\n",
    "\n",
    "### Modifiche al Codice Stan\n",
    "\n",
    "Di seguito è riportato un codice Stan aggiornato che include la possibilità di feedback positivo o negativo per il compito facile:\n",
    "\n",
    "```stan\n",
    "data {\n",
    "  int<lower=1> N;  // numero di prove\n",
    "  int<lower=0, upper=1> y[N];  // scelte (0=facile, 1=difficile)\n",
    "}\n",
    "\n",
    "parameters {\n",
    "  real a;  // tendenza di base a scegliere il compito difficile\n",
    "  real b;  // effetto della scelta precedente\n",
    "  real c;  // effetto del feedback precedente\n",
    "}\n",
    "\n",
    "transformed parameters {\n",
    "  real f[N];  // feedback per ciascuna prova\n",
    "  f[1] = 0;  // inizializzazione del feedback alla prima prova\n",
    "\n",
    "  for (t in 2:N) {\n",
    "    real epsilon_t = normal_rng(0, 1);  // termine di errore casuale per determinare il segno del feedback\n",
    "\n",
    "    if (y[t-1] == 0) {  // compito facile\n",
    "      f[t-1] = (epsilon_t > 0) ? 1 : -1;\n",
    "    } else {  // compito difficile\n",
    "      f[t-1] = (epsilon_t > 0) ? 10 : -10;\n",
    "    }\n",
    "  }\n",
    "}\n",
    "\n",
    "model {\n",
    "  // Priori per i parametri del modello\n",
    "  a ~ normal(0, 1);\n",
    "  b ~ normal(0, 1);\n",
    "  c ~ normal(0, 1);\n",
    "\n",
    "  for (t in 2:N) {\n",
    "    // Modello logit per la scelta\n",
    "    y[t] ~ bernoulli_logit(a + b * y[t-1] + c * f[t-1]);\n",
    "  }\n",
    "}\n",
    "```\n",
    "\n",
    "### Modifiche e Miglioramenti Aggiuntivi\n",
    "\n",
    "1. **Inizializzazione di `f[1]`**: Il feedback per la prima prova è ancora inizializzato a 0, in quanto non c'è feedback precedente da considerare.\n",
    "\n",
    "2. **Generazione del Feedback**: In questo codice aggiornato, il termine $\\epsilon_t$ è usato per determinare sia il segno del feedback per il compito facile (+1 o -1) che per il compito difficile (+10 o -10). Questo riflette l'idea che c'è un elemento casuale che determina se il feedback sarà positivo o negativo per entrambi i tipi di compito.\n",
    "\n",
    "3. **Priori per i Parametri**: I priori sui parametri $a$, $b$, e $c$ rimangono normali standard, riflettendo un'ipotesi di incertezza iniziale standard.\n",
    "\n",
    "### Considerazioni Finali\n",
    "\n",
    "Questo modello aggiornato tiene conto della variabilità nel feedback per entrambi i tipi di compito e offre un quadro probabilistico più completo per modellare le scelte e le strategie dei partecipanti. Assicurati di validare e adattare il modello in base ai dati raccolti e di considerare ulteriori miglioramenti per catturare meglio le dinamiche individuali e le differenze nelle strategie di scelta."
   ]
  },
  {
   "cell_type": "markdown",
   "metadata": {},
   "source": [
    "### Simulazione dei Dati\n",
    "\n",
    "Simuliamo i dati ipotizzando la presenza di tre stati (A, B, C) e utilizzando le matrici di transizione per le condizioni T e VR riportate da @paxinou2021analyzing. Per gli scopi presenti, non è necessario capire nei dettagli come questo viene ottenuto."
   ]
  },
  {
   "cell_type": "code",
   "execution_count": 3,
   "metadata": {},
   "outputs": [],
   "source": [
    "def generate_markov_chain_data(transition_matrix, initial_state, steps, subjects):\n",
    "    states = [\"A\", \"B\", \"C\"]\n",
    "    data = []\n",
    "\n",
    "    for _ in range(subjects):\n",
    "        current_state = initial_state\n",
    "        state_sequence = [\n",
    "            states.index(current_state) + 1\n",
    "        ]  # Convert state to integer (1-based index)\n",
    "\n",
    "        for _ in range(steps - 1):\n",
    "            current_state = np.random.choice(\n",
    "                states, p=transition_matrix[states.index(current_state)]\n",
    "            )\n",
    "            state_sequence.append(states.index(current_state) + 1)\n",
    "\n",
    "        data.append(state_sequence)\n",
    "\n",
    "    return data\n",
    "\n",
    "\n",
    "# Transition matrices for the two conditions\n",
    "transition_matrix_condition1 = [\n",
    "    [0.776, 0.128, 0.096],  # Probabilities for transitions from state A\n",
    "    [0.738, 0.167, 0.095],  # Probabilities for transitions from state B\n",
    "    [0.630, 0.259, 0.111],  # Probabilities for transitions from state C\n",
    "]\n",
    "\n",
    "transition_matrix_condition2 = [\n",
    "    [0.866, 0.086, 0.048],  # Probabilities for transitions from state A\n",
    "    [0.516, 0.452, 0.032],  # Probabilities for transitions from state B\n",
    "    [0.900, 0.100, 0.000],  # Probabilities for transitions from state C\n",
    "]\n",
    "\n",
    "# Number of steps (trials) in the experiment\n",
    "steps = 13\n",
    "# Number of subjects\n",
    "subjects = 50\n",
    "\n",
    "# Initial state for each subject\n",
    "initial_state = \"A\"\n",
    "\n",
    "# Generate data for both conditions\n",
    "data_condition1 = generate_markov_chain_data(\n",
    "    transition_matrix_condition1, initial_state, steps, subjects\n",
    ")\n",
    "data_condition2 = generate_markov_chain_data(\n",
    "    transition_matrix_condition2, initial_state, steps, subjects\n",
    ")"
   ]
  },
  {
   "cell_type": "markdown",
   "metadata": {},
   "source": [
    "Sistemiamo i dati in un dizionario come richiesto da Stan."
   ]
  },
  {
   "cell_type": "code",
   "execution_count": 4,
   "metadata": {},
   "outputs": [],
   "source": [
    "# Create the data dictionary for the Stan models\n",
    "stan_data = {\n",
    "    \"N\": 3,  # Number of states (A, B, C)\n",
    "    \"M1\": len(data_condition1),  # Number of subjects in condition 1\n",
    "    \"M2\": len(data_condition2),  # Number of subjects in condition 2\n",
    "    \"L\": steps,  # Length of each sequence (number of trials)\n",
    "    \"y1\": data_condition1,  # Data for condition 1\n",
    "    \"y2\": data_condition2,  # Data for condition 2\n",
    "}"
   ]
  },
  {
   "cell_type": "markdown",
   "metadata": {},
   "source": [
    "Stampiamo i dati di due soggetti simulati nella condizione 1."
   ]
  },
  {
   "cell_type": "code",
   "execution_count": 5,
   "metadata": {},
   "outputs": [
    {
     "name": "stdout",
     "output_type": "stream",
     "text": [
      "[[1, 1, 1, 1, 1, 2, 1, 1, 2, 1, 1, 1, 1], [1, 1, 2, 1, 1, 1, 1, 1, 1, 1, 1, 1, 1]]\n"
     ]
    }
   ],
   "source": [
    "print(stan_data[\"y1\"][0:2])"
   ]
  },
  {
   "cell_type": "markdown",
   "metadata": {},
   "source": [
    "### Modello Baseline\n",
    "\n",
    "Implementiamo ora in Stan il modello che non distingue tra le condizioni T e VR."
   ]
  },
  {
   "cell_type": "code",
   "execution_count": 6,
   "metadata": {},
   "outputs": [
    {
     "name": "stdout",
     "output_type": "stream",
     "text": [
      "data {\n",
      "  int<lower=1> N; // number of states\n",
      "  int<lower=1> M1; // number of subjects in condition 1\n",
      "  int<lower=1> M2; // number of subjects in condition 2\n",
      "  int<lower=1> L; // length of each sequence\n",
      "  array[M1, L] int<lower=1, upper=N> y1; // observed sequences for condition 1\n",
      "  array[M2, L] int<lower=1, upper=N> y2; // observed sequences for condition 2\n",
      "}\n",
      "parameters {\n",
      "  array[N] simplex[N] P; // shared transition matrix for all data\n",
      "}\n",
      "model {\n",
      "  for (m in 1 : M1) {\n",
      "    for (l in 2 : L) {\n",
      "      y1[m, l] ~ categorical(P[y1[m, l - 1]]);\n",
      "    }\n",
      "  }\n",
      "  for (m in 1 : M2) {\n",
      "    for (l in 2 : L) {\n",
      "      y2[m, l] ~ categorical(P[y2[m, l - 1]]);\n",
      "    }\n",
      "  }\n",
      "}\n",
      "generated quantities {\n",
      "  array[M1 * (L - 1) + M2 * (L - 1)] real log_lik; // combined log likelihoods for all observations\n",
      "  \n",
      "  int idx = 1;\n",
      "  \n",
      "  // Compute log likelihoods for condition 1\n",
      "  for (m in 1 : M1) {\n",
      "    for (l in 2 : L) {\n",
      "      log_lik[idx] = categorical_lpmf(y1[m, l] | P[y1[m, l - 1]]);\n",
      "      idx += 1;\n",
      "    }\n",
      "  }\n",
      "  \n",
      "  // Compute log likelihoods for condition 2\n",
      "  for (m in 1 : M2) {\n",
      "    for (l in 2 : L) {\n",
      "      log_lik[idx] = categorical_lpmf(y2[m, l] | P[y2[m, l - 1]]);\n",
      "      idx += 1;\n",
      "    }\n",
      "  }\n",
      "}\n",
      "\n"
     ]
    }
   ],
   "source": [
    "stan_file = os.path.join(\n",
    "    project_directory, \"stan\", \"paxinou_single_condition_model.stan\"\n",
    ")\n",
    "\n",
    "model_single = CmdStanModel(stan_file=stan_file)\n",
    "print(model_single.code())"
   ]
  },
  {
   "cell_type": "markdown",
   "metadata": {},
   "source": [
    "Questo modello utilizza una catena di Markov per analizzare il progresso degli studenti attraverso diversi stati di apprendimento sotto due differenti condizioni di insegnamento. L'obiettivo è stimare una singola matrice di transizione che rappresenti come gli studenti si spostano tra vari stati di apprendimento, indipendentemente dalla condizione di insegnamento.\n",
    "\n",
    "Le componenti principali del modello sono:\n",
    "\n",
    "1. *Stati di Apprendimento*: A: \"Ho completato il passaggio facilmente\"; B: \"Ho eventualmente completato il passaggio, ma con difficoltà\"; C: \"Non sono riuscito a completare il passaggio da solo, quindi ho chiesto aiuto\".\n",
    "2. *Sequenze di Apprendimento*: Serie di stati attraversati da ciascuno studente durante l'esperimento.\n",
    "3. *Matrice di Transizione*: Descrive le probabilità di passare da uno stato all'altro.\n",
    "\n",
    "I dati in input hanno la seguente struttura:\n",
    "\n",
    "- `N`: Numero di stati di apprendimento possibili.\n",
    "- `M1` e `M2`: Numero di studenti per ciascuna condizione di insegnamento.\n",
    "- `L`: Numero di passi dell'esperimento che ogni studente deve completare.\n",
    "- `y1` e `y2`: Sequenze osservate di stati per gli studenti nelle due condizioni di insegnamento.\n",
    "\n",
    "Esaminiamo ora il funzionamento del modello. La matrice di transizione `P` è la componente chiave. Ogni riga di `P` rappresenta uno stato attuale, con i valori che indicano le probabilità di passare agli altri stati. Il modello presuppone che queste probabilità siano uguali per entrambe le condizioni di insegnamento.\n",
    "\n",
    "Il processo inizia con una stima iniziale di `P`. Il modello esamina le sequenze di stati di ogni studente per entrambe le condizioni, calcolando la probabilità di ogni transizione osservata usando `P`. Successivamente, aggiorna `P` per massimizzare la probabilità complessiva di tutte le sequenze osservate. Questo processo iterativo continua fino a trovare la migliore stima possibile di `P`.\n",
    "\n",
    "La matrice `P` è costituita da righe che rappresentano distribuzioni categoriali per ciascuno stato attuale. La distribuzione `categorical` è una generalizzazione della distribuzione binomiale per più categorie, permettendo di modellare esiti con più di due possibili risultati (come A, B, C), mantenendo la somma delle probabilità pari a 1.\n",
    "\n",
    "Il cuore del modello è costituito dall'istruzione `y1[m, l] ~ categorical(P[y1[m, l - 1]]);`. Questa istruzione modella la probabilità di osservare una determinata transizione di stato all'interno di una sequenza di apprendimento:\n",
    "\n",
    "- `y1[m, l]`: Stato osservato per lo studente `m` al passo `l`.\n",
    "- `categorical`: Distribuzione di probabilità discreta per modellare eventi con diversi esiti.\n",
    "- `P[y1[m, l - 1]]`: Seleziona la riga della matrice `P` corrispondente allo stato precedente, contenente le probabilità di transizione agli altri stati.\n",
    "\n",
    "L'istruzione `y1[m, l] ~ categorical(P[y1[m, l - 1]]);`:\n",
    "\n",
    "1. Simula la probabilità che lo studente `m` passi da uno stato all'altro tra il passo `l-1` e `l`.\n",
    "2. Usa la riga di `P` corrispondente allo stato precedente per determinare le probabilità di transizione.\n",
    "3. Valuta quanto è probabile osservare la sequenza di stati `y1` data la matrice `P`.\n",
    "\n",
    "Questa istruzione assegna una probabilità alla transizione osservata, che Stan utilizza per aggiornare le stime dei parametri del modello, migliorando l'accuratezza complessiva della matrice `P` stimata.\n",
    "\n",
    "Una volta chiarito il modello, eseguiamo il campionamento."
   ]
  },
  {
   "cell_type": "code",
   "execution_count": 92,
   "metadata": {},
   "outputs": [],
   "source": [
    "fit_single = model_single.sample(\n",
    "    data=stan_data,\n",
    "    iter_warmup=2_000,\n",
    "    iter_sampling=2_000,\n",
    "    seed=42,\n",
    "    show_progress=False,\n",
    "    show_console=False,\n",
    ")"
   ]
  },
  {
   "cell_type": "code",
   "execution_count": 93,
   "metadata": {},
   "outputs": [
    {
     "name": "stdout",
     "output_type": "stream",
     "text": [
      "Processing csv files: /var/folders/s7/z86r4t9j6yx376cm120nln6w0000gn/T/tmp3kv6pme3/paxinou_single_condition_modeli6rc4wxk/paxinou_single_condition_model-20240826095506_1.csv, /var/folders/s7/z86r4t9j6yx376cm120nln6w0000gn/T/tmp3kv6pme3/paxinou_single_condition_modeli6rc4wxk/paxinou_single_condition_model-20240826095506_2.csv, /var/folders/s7/z86r4t9j6yx376cm120nln6w0000gn/T/tmp3kv6pme3/paxinou_single_condition_modeli6rc4wxk/paxinou_single_condition_model-20240826095506_3.csv, /var/folders/s7/z86r4t9j6yx376cm120nln6w0000gn/T/tmp3kv6pme3/paxinou_single_condition_modeli6rc4wxk/paxinou_single_condition_model-20240826095506_4.csv\n",
      "\n",
      "Checking sampler transitions treedepth.\n",
      "Treedepth satisfactory for all transitions.\n",
      "\n",
      "Checking sampler transitions for divergences.\n",
      "No divergent transitions found.\n",
      "\n",
      "Checking E-BFMI - sampler transitions HMC potential energy.\n",
      "E-BFMI satisfactory.\n",
      "\n",
      "Effective sample size satisfactory.\n",
      "\n",
      "Split R-hat values satisfactory all parameters.\n",
      "\n",
      "Processing complete, no problems detected.\n",
      "\n"
     ]
    }
   ],
   "source": [
    "# Run diagnostics and print results\n",
    "diagnostic_info = fit_single.diagnose()\n",
    "print(diagnostic_info)"
   ]
  },
  {
   "cell_type": "markdown",
   "metadata": {},
   "source": [
    "Convertiamo l'oggetto `fit_sample` in un formato compatibile con ArviZ."
   ]
  },
  {
   "cell_type": "code",
   "execution_count": 94,
   "metadata": {},
   "outputs": [],
   "source": [
    "fit_single_az = az.from_cmdstanpy(posterior=fit_single)"
   ]
  },
  {
   "cell_type": "markdown",
   "metadata": {},
   "source": [
    "Esaminiamo la matrice di transizione stimata dal modello."
   ]
  },
  {
   "cell_type": "code",
   "execution_count": 95,
   "metadata": {},
   "outputs": [
    {
     "name": "stdout",
     "output_type": "stream",
     "text": [
      "Estimated Transition Matrix (Mean):\n",
      "[[0.83 0.1  0.07]\n",
      " [0.6  0.35 0.05]\n",
      " [0.75 0.2  0.05]]\n"
     ]
    }
   ],
   "source": [
    "# Access posterior samples for the shared transition matrix 'P'\n",
    "P_samples = fit_single_az.posterior[\"P\"].values\n",
    "\n",
    "# P_samples likely have the shape: (chains, draws, N, N)\n",
    "# where 'chains' is the number of chains, 'draws' is the number of samples, and N is the number of states (3 in this case)\n",
    "\n",
    "# First, average over the chains axis (axis=0)\n",
    "P_samples_mean_over_chains = np.mean(P_samples, axis=0)\n",
    "\n",
    "# Then, average over the draws axis (axis=0)\n",
    "P_mean = np.mean(P_samples_mean_over_chains, axis=0)\n",
    "\n",
    "# The result is a 3x3 matrix\n",
    "print(\"Estimated Transition Matrix (Mean):\")\n",
    "print(P_mean.round(2))"
   ]
  },
  {
   "cell_type": "markdown",
   "metadata": {},
   "source": [
    "## Modello per Gruppi Separati\n",
    "\n",
    "Esaminiamo ora il modello che assume diverse matrici di transizioni per i due gruppi."
   ]
  },
  {
   "cell_type": "code",
   "execution_count": 7,
   "metadata": {},
   "outputs": [
    {
     "name": "stdout",
     "output_type": "stream",
     "text": [
      "data {\n",
      "  int<lower=1> N; // number of states\n",
      "  int<lower=1> M1; // number of subjects in condition 1\n",
      "  int<lower=1> M2; // number of subjects in condition 2\n",
      "  int<lower=1> L; // length of each sequence\n",
      "  array[M1, L] int<lower=1, upper=N> y1; // observed sequences for condition 1\n",
      "  array[M2, L] int<lower=1, upper=N> y2; // observed sequences for condition 2\n",
      "}\n",
      "parameters {\n",
      "  array[N] simplex[N] P1; // transition matrix for condition 1\n",
      "  array[N] simplex[N] P2; // transition matrix for condition 2\n",
      "}\n",
      "model {\n",
      "  // Likelihood for condition 1 using P1\n",
      "  for (m in 1 : M1) {\n",
      "    for (l in 2 : L) {\n",
      "      y1[m, l] ~ categorical(P1[y1[m, l - 1]]);\n",
      "    }\n",
      "  }\n",
      "  \n",
      "  // Likelihood for condition 2 using P2\n",
      "  for (m in 1 : M2) {\n",
      "    for (l in 2 : L) {\n",
      "      y2[m, l] ~ categorical(P2[y2[m, l - 1]]);\n",
      "    }\n",
      "  }\n",
      "}\n",
      "generated quantities {\n",
      "  array[M1 * (L - 1) + M2 * (L - 1)] real log_lik; // combined log likelihoods for all observations\n",
      "  int idx = 1; // Index for combined log likelihoods array\n",
      "  \n",
      "  // Compute log likelihoods for condition 1\n",
      "  for (m in 1 : M1) {\n",
      "    for (l in 2 : L) {\n",
      "      log_lik[idx] = categorical_lpmf(y1[m, l] | P1[y1[m, l - 1]]);\n",
      "      idx += 1;\n",
      "    }\n",
      "  }\n",
      "  \n",
      "  // Compute log likelihoods for condition 2\n",
      "  for (m in 1 : M2) {\n",
      "    for (l in 2 : L) {\n",
      "      log_lik[idx] = categorical_lpmf(y2[m, l] | P2[y2[m, l - 1]]);\n",
      "      idx += 1;\n",
      "    }\n",
      "  }\n",
      "}\n",
      "\n"
     ]
    }
   ],
   "source": [
    "stan_sep_tran_mat_file = os.path.join(\n",
    "    project_directory, \"stan\", \"paxinou_separate_transition_matrices_model.stan\"\n",
    ")\n",
    "\n",
    "model_separate = CmdStanModel(stan_file=stan_sep_tran_mat_file)\n",
    "print(model_separate.code())"
   ]
  },
  {
   "cell_type": "markdown",
   "metadata": {},
   "source": [
    "A differenza del modello precedente, che stima una singola matrice di transizione per entrambe le condizioni, questo modello stima due matrici di transizione distinte: una per ciascuna condizione di insegnamento. L'obiettivo è vedere se e come le dinamiche di apprendimento differiscono tra le due condizioni.\n",
    "\n",
    "Rispetto al modello con una singola matrice di transizione, il codice Stan per il modello con due matrici di transizione presenta alcune differenze fondamentali:\n",
    "\n",
    "- Definisce due matrici di transizione distinte, `P1` e `P2`, per rappresentare separatamente le probabilità di transizione per ciascuna condizione.\n",
    "- La verosimiglianza è calcolata separatamente per ciascuna condizione\n",
    "\n",
    "Eseguiamo il campionamento."
   ]
  },
  {
   "cell_type": "code",
   "execution_count": 8,
   "metadata": {},
   "outputs": [],
   "source": [
    "fit_separate = model_separate.sample(\n",
    "    data=stan_data,\n",
    "    iter_warmup=2_000,\n",
    "    iter_sampling=2_000,\n",
    "    seed=42,\n",
    "    show_progress=False,\n",
    "    show_console=False,\n",
    ")"
   ]
  },
  {
   "cell_type": "code",
   "execution_count": 45,
   "metadata": {},
   "outputs": [
    {
     "name": "stdout",
     "output_type": "stream",
     "text": [
      "Processing csv files: /var/folders/s7/z86r4t9j6yx376cm120nln6w0000gn/T/tmp3kv6pme3/paxinou_separate_transition_matrices_model782l5f79/paxinou_separate_transition_matrices_model-20240826092027_1.csv, /var/folders/s7/z86r4t9j6yx376cm120nln6w0000gn/T/tmp3kv6pme3/paxinou_separate_transition_matrices_model782l5f79/paxinou_separate_transition_matrices_model-20240826092027_2.csv, /var/folders/s7/z86r4t9j6yx376cm120nln6w0000gn/T/tmp3kv6pme3/paxinou_separate_transition_matrices_model782l5f79/paxinou_separate_transition_matrices_model-20240826092027_3.csv, /var/folders/s7/z86r4t9j6yx376cm120nln6w0000gn/T/tmp3kv6pme3/paxinou_separate_transition_matrices_model782l5f79/paxinou_separate_transition_matrices_model-20240826092027_4.csv\n",
      "\n",
      "Checking sampler transitions treedepth.\n",
      "Treedepth satisfactory for all transitions.\n",
      "\n",
      "Checking sampler transitions for divergences.\n",
      "No divergent transitions found.\n",
      "\n",
      "Checking E-BFMI - sampler transitions HMC potential energy.\n",
      "E-BFMI satisfactory.\n",
      "\n",
      "Effective sample size satisfactory.\n",
      "\n",
      "Split R-hat values satisfactory all parameters.\n",
      "\n",
      "Processing complete, no problems detected.\n",
      "\n"
     ]
    }
   ],
   "source": [
    "# Run diagnostics and print results\n",
    "diagnostic_info = fit_separate.diagnose()\n",
    "print(diagnostic_info)"
   ]
  },
  {
   "cell_type": "code",
   "execution_count": 9,
   "metadata": {},
   "outputs": [],
   "source": [
    "fit_separate_az = az.from_cmdstanpy(posterior=fit_separate)"
   ]
  },
  {
   "cell_type": "markdown",
   "metadata": {},
   "source": [
    "Esaminiamo le due matrici di transizione stimate dal modello."
   ]
  },
  {
   "cell_type": "code",
   "execution_count": 10,
   "metadata": {},
   "outputs": [
    {
     "name": "stdout",
     "output_type": "stream",
     "text": [
      "Estimated Transition Matrix for Condition 1 (Mean):\n",
      "[[0.77 0.13 0.1 ]\n",
      " [0.75 0.15 0.1 ]\n",
      " [0.55 0.32 0.12]]\n",
      "\n",
      "Estimated Transition Matrix for Condition 2 (Mean):\n",
      "[[0.85 0.08 0.07]\n",
      " [0.57 0.42 0.01]\n",
      " [0.8  0.17 0.03]]\n"
     ]
    }
   ],
   "source": [
    "# Access posterior samples for the transition matrices 'P1' and 'P2'\n",
    "P1_samples = fit_separate_az.posterior[\"P1\"].values\n",
    "P2_samples = fit_separate_az.posterior[\"P2\"].values\n",
    "\n",
    "# P1_samples and P2_samples likely have the shape: (chains, draws, N, N)\n",
    "# where 'chains' is the number of chains, 'draws' is the number of samples, and N is the number of states (3 in this case)\n",
    "\n",
    "# First, average over the chains axis (axis=0) for both P1 and P2\n",
    "P1_samples_mean_over_chains = np.mean(P1_samples, axis=0)\n",
    "P2_samples_mean_over_chains = np.mean(P2_samples, axis=0)\n",
    "\n",
    "# Then, average over the draws axis (axis=0) for both P1 and P2\n",
    "P1_mean = np.mean(P1_samples_mean_over_chains, axis=0)\n",
    "P2_mean = np.mean(P2_samples_mean_over_chains, axis=0)\n",
    "\n",
    "# The result for each is a 3x3 matrix\n",
    "print(\"Estimated Transition Matrix for Condition 1 (Mean):\")\n",
    "print(P1_mean.round(2))\n",
    "\n",
    "print(\"\\nEstimated Transition Matrix for Condition 2 (Mean):\")\n",
    "print(P2_mean.round(2))"
   ]
  },
  {
   "cell_type": "markdown",
   "metadata": {},
   "source": [
    "Si noti la buona corrispondenza tra i valori stimati e i valori usati nella simulazione dei dati."
   ]
  },
  {
   "cell_type": "markdown",
   "metadata": {},
   "source": [
    "## Valutazione e Confronto di Modelli"
   ]
  },
  {
   "cell_type": "markdown",
   "metadata": {},
   "source": [
    "Eseguiamo il calcolo dei valori k di Pareto e la validazione incrociata Leave-One-Out (LOO-CV) utilizzando ArviZ per il modello di baseline."
   ]
  },
  {
   "cell_type": "code",
   "execution_count": 100,
   "metadata": {},
   "outputs": [
    {
     "name": "stdout",
     "output_type": "stream",
     "text": [
      "Computed from 8000 posterior samples and 1200 observations log-likelihood matrix.\n",
      "\n",
      "         Estimate       SE\n",
      "elpd_loo  -728.89    28.51\n",
      "p_loo        5.79        -\n",
      "------\n",
      "\n",
      "Pareto k diagnostic values:\n",
      "                         Count   Pct.\n",
      "(-Inf, 0.5]   (good)     1200  100.0%\n",
      " (0.5, 0.7]   (ok)          0    0.0%\n",
      "   (0.7, 1]   (bad)         0    0.0%\n",
      "   (1, Inf)   (very bad)    0    0.0%\n",
      "\n"
     ]
    }
   ],
   "source": [
    "loo_single = az.loo(fit_single_az)\n",
    "print(loo_single)"
   ]
  },
  {
   "cell_type": "markdown",
   "metadata": {},
   "source": [
    "Ripetiamo il processo per il modello che distingue tra i gruppi."
   ]
  },
  {
   "cell_type": "code",
   "execution_count": 101,
   "metadata": {},
   "outputs": [
    {
     "name": "stdout",
     "output_type": "stream",
     "text": [
      "Computed from 8000 posterior samples and 1200 observations log-likelihood matrix.\n",
      "\n",
      "         Estimate       SE\n",
      "elpd_loo  -709.93    28.46\n",
      "p_loo       10.55        -\n",
      "------\n",
      "\n",
      "Pareto k diagnostic values:\n",
      "                         Count   Pct.\n",
      "(-Inf, 0.5]   (good)     1200  100.0%\n",
      " (0.5, 0.7]   (ok)          0    0.0%\n",
      "   (0.7, 1]   (bad)         0    0.0%\n",
      "   (1, Inf)   (very bad)    0    0.0%\n",
      "\n"
     ]
    }
   ],
   "source": [
    "loo_separate = az.loo(fit_separate_az)\n",
    "print(loo_separate)"
   ]
  },
  {
   "cell_type": "markdown",
   "metadata": {},
   "source": [
    "Eseguiamo un confronto tra i due modelli."
   ]
  },
  {
   "cell_type": "code",
   "execution_count": 103,
   "metadata": {},
   "outputs": [
    {
     "data": {
      "text/html": [
       "<div>\n",
       "<style scoped>\n",
       "    .dataframe tbody tr th:only-of-type {\n",
       "        vertical-align: middle;\n",
       "    }\n",
       "\n",
       "    .dataframe tbody tr th {\n",
       "        vertical-align: top;\n",
       "    }\n",
       "\n",
       "    .dataframe thead th {\n",
       "        text-align: right;\n",
       "    }\n",
       "</style>\n",
       "<table border=\"1\" class=\"dataframe\">\n",
       "  <thead>\n",
       "    <tr style=\"text-align: right;\">\n",
       "      <th></th>\n",
       "      <th>rank</th>\n",
       "      <th>elpd_loo</th>\n",
       "      <th>p_loo</th>\n",
       "      <th>elpd_diff</th>\n",
       "      <th>weight</th>\n",
       "      <th>se</th>\n",
       "      <th>dse</th>\n",
       "      <th>warning</th>\n",
       "      <th>scale</th>\n",
       "    </tr>\n",
       "  </thead>\n",
       "  <tbody>\n",
       "    <tr>\n",
       "      <th>separate_model</th>\n",
       "      <td>0</td>\n",
       "      <td>-709.926886</td>\n",
       "      <td>10.545689</td>\n",
       "      <td>0.000000</td>\n",
       "      <td>0.903335</td>\n",
       "      <td>28.458712</td>\n",
       "      <td>0.00000</td>\n",
       "      <td>False</td>\n",
       "      <td>log</td>\n",
       "    </tr>\n",
       "    <tr>\n",
       "      <th>single_model</th>\n",
       "      <td>1</td>\n",
       "      <td>-728.893768</td>\n",
       "      <td>5.791815</td>\n",
       "      <td>18.966882</td>\n",
       "      <td>0.096665</td>\n",
       "      <td>28.513270</td>\n",
       "      <td>6.79972</td>\n",
       "      <td>False</td>\n",
       "      <td>log</td>\n",
       "    </tr>\n",
       "  </tbody>\n",
       "</table>\n",
       "</div>"
      ],
      "text/plain": [
       "                rank    elpd_loo      p_loo  elpd_diff    weight         se  \\\n",
       "separate_model     0 -709.926886  10.545689   0.000000  0.903335  28.458712   \n",
       "single_model       1 -728.893768   5.791815  18.966882  0.096665  28.513270   \n",
       "\n",
       "                    dse  warning scale  \n",
       "separate_model  0.00000    False   log  \n",
       "single_model    6.79972    False   log  "
      ]
     },
     "execution_count": 103,
     "metadata": {},
     "output_type": "execute_result"
    }
   ],
   "source": [
    "df_comp_loo = az.compare({\n",
    "    \"single_model\": loo_single, \n",
    "    \"separate_model\": loo_separate\n",
    "})\n",
    "df_comp_loo"
   ]
  },
  {
   "cell_type": "code",
   "execution_count": 104,
   "metadata": {},
   "outputs": [
    {
     "data": {
      "image/png": "[encoded data removed]",
      "text/plain": [
       "<Figure size 600x200 with 1 Axes>"
      ]
     },
     "metadata": {
      "image/png": {
       "height": 211,
       "width": 611
      }
     },
     "output_type": "display_data"
    }
   ],
   "source": [
    "_ = az.plot_compare(df_comp_loo, insample_dev=False)"
   ]
  },
  {
   "cell_type": "markdown",
   "metadata": {},
   "source": [
    "Si noti che il rapporto tra `elpd_diff` e `dse` è maggiore di 2 e che il modello preferito è quello che distingue tra i gruppi. Questo indica che il modello che distingue tra i gruppi si adatta meglio ai dati. Nuovamente, questo non è sorprendente dato che i dati sono stati generati in questo modo. Ma la simulazione indica che, se questo fosse il meccanismo generatore dei dati, con 50 soggetti per gruppo sarebbe possibile distinguere tra i due modelli."
   ]
  },
  {
   "cell_type": "markdown",
   "metadata": {},
   "source": [
    "La prossima domanda è stabilire quale metodo d'insegnamento funzioni meglio. Per rispondere a questa domanda, calcoliamo la probabilità che transitare allo stato A sia maggiore nella condizione VR che nella condizione T."
   ]
  },
  {
   "cell_type": "code",
   "execution_count": 106,
   "metadata": {},
   "outputs": [
    {
     "name": "stdout",
     "output_type": "stream",
     "text": [
      "Probability that VR condition has a higher probability of transitioning to state A:\n",
      "From state 1 to state A: 1.00\n",
      "From state 2 to state A: 0.00\n",
      "From state 3 to state A: 0.89\n",
      "\n",
      "Probability that VR condition has a lower probability of transitioning to state C:\n",
      "From state 1 to state C: 1.00\n",
      "From state 2 to state C: 0.77\n",
      "From state 3 to state C: 0.81\n"
     ]
    }
   ],
   "source": [
    "# Extract posterior samples for transition matrices P1 and P2\n",
    "P1_samples = fit_separate_az.posterior[\n",
    "    \"P1\"\n",
    "].values  # Transition matrix for condition 1 (T-Group)\n",
    "P2_samples = fit_separate_az.posterior[\n",
    "    \"P2\"\n",
    "].values  # Transition matrix for condition 2 (VR-Group)\n",
    "\n",
    "# Number of states (assumed to be 3)\n",
    "num_states = 3\n",
    "\n",
    "# Initialize lists to store the probabilities for each state transition\n",
    "prob_better_performance = []\n",
    "prob_worse_performance = []\n",
    "\n",
    "# Check transitions to state A and from any state to state C\n",
    "for i in range(num_states):\n",
    "    # Transition to state A (index 0)\n",
    "    P1_to_A = P1_samples[\n",
    "        :, :, i, 0\n",
    "    ]  # Probability of transitioning to state A in T-Group\n",
    "    P2_to_A = P2_samples[\n",
    "        :, :, i, 0\n",
    "    ]  # Probability of transitioning to state A in VR-Group\n",
    "\n",
    "    # Compute probability that the VR condition has a higher probability of transitioning to state A\n",
    "    prob_to_A_better = np.mean(P2_to_A > P1_to_A)\n",
    "    prob_better_performance.append(prob_to_A_better)\n",
    "\n",
    "    # Transition to state C (index 2)\n",
    "    P1_to_C = P1_samples[\n",
    "        :, :, i, 2\n",
    "    ]  # Probability of transitioning to state C in T-Group\n",
    "    P2_to_C = P2_samples[\n",
    "        :, :, i, 2\n",
    "    ]  # Probability of transitioning to state C in VR-Group\n",
    "\n",
    "    # Compute probability that the VR condition has a lower probability of transitioning to state C\n",
    "    prob_to_C_worse = np.mean(P2_to_C < P1_to_C)\n",
    "    prob_worse_performance.append(prob_to_C_worse)\n",
    "\n",
    "# Print the results\n",
    "print(\n",
    "    \"Probability that VR condition has a higher probability of transitioning to state A:\"\n",
    ")\n",
    "for i in range(num_states):\n",
    "    print(f\"From state {i+1} to state A: {prob_better_performance[i]:.2f}\")\n",
    "\n",
    "print(\n",
    "    \"\\nProbability that VR condition has a lower probability of transitioning to state C:\"\n",
    ")\n",
    "for i in range(num_states):\n",
    "    print(f\"From state {i+1} to state C: {prob_worse_performance[i]:.2f}\")"
   ]
  },
  {
   "cell_type": "markdown",
   "metadata": {},
   "source": [
    "### Interpretazione\n",
    "\n",
    "Basandosi sui risultati ottenuti, vediamo di interpretare il significato di ogni probabilità nel contesto della simulazione e dello studio originale.\n",
    "\n",
    "1. *Dallo stato 1 allo stato A: 1.00.* La probabilità è 1.00, il che indica che, in tutti i campioni posteriori, la condizione VR (Condizione 2) ha una **probabilità più alta** di passare dallo stato 1 (\"Ho completato il passaggio facilmente\") allo stato A (\"Ho completato il passaggio facilmente\") rispetto alla condizione T-Group (Condizione 1). Questo suggerisce che, una volta che i partecipanti nella condizione VR hanno completato con successo un passaggio, è più probabile che continuino a completare facilmente i passaggi successivi.\n",
    "\n",
    "2. *Dallo stato 2 allo stato A: 0.00.* La probabilità è 0.00, il che indica che la condizione VR non ha una probabilità più alta di passare dallo stato 2 (\"Ho finalmente completato il passaggio, ma con difficoltà\") allo stato A rispetto alla condizione T-Group. Questo suggerisce che quando i partecipanti stanno affrontando delle difficoltà (stato 2), nella condizione VR non sono più propensi rispetto alla condizione T-Group a passare a completare facilmente il passaggio successivo (stato A).\n",
    "\n",
    "3. *Dallo stato 3 allo stato A: 0.89.* La probabilità è 0.89, il che indica che c'è l'89% di possibilità che la condizione VR abbia una probabilità più alta di passare dallo stato 3 (\"Non sono riuscito a completare il passaggio da solo, quindi ho chiesto aiuto\") allo stato A rispetto alla condizione T-Group. Questo suggerisce che, anche quando i partecipanti chiedono aiuto (stato 3), è più probabile che nella condizione VR completino facilmente il passaggio successivo (stato A) rispetto alla condizione T-Group.\n",
    "\n",
    "Calcoliamo la probabilità che la condizione VR abbia una probabilità più bassa di passare allo stato C:\n",
    "\n",
    "1. *Dallo stato 1 allo stato C: 1.00.* La probabilità è 1.00, indicando che la condizione VR ha una *probabilità costantemente più bassa* di passare dallo stato 1 (\"Ho completato il passaggio facilmente\") allo stato C (\"Non sono riuscito a completare il passaggio da solo, quindi ho chiesto aiuto\") rispetto alla condizione T-Group. Questo suggerisce che i partecipanti nella condizione VR sono molto meno propensi a regredire dal completare facilmente un passaggio a dover chiedere aiuto.\n",
    "\n",
    "2. *Dallo stato 2 allo stato C: 0.77.* La probabilità è 0.77, indicando una probabilità del 77% che la condizione VR abbia una probabilità più bassa di passare dallo stato 2 (\"Ho finalmente completato il passaggio, ma con difficoltà\") allo stato C rispetto alla condizione T-Group. Questo suggerisce che i partecipanti nella condizione VR sono generalmente meno propensi a passare dal trovarsi in difficoltà al dover chiedere aiuto rispetto a quelli nella condizione T-Group.\n",
    "\n",
    "3. *Dallo stato 3 allo stato C: 0.81.* La probabilità è 0.81, il che indica una probabilità dell'81% che la condizione VR abbia una probabilità più bassa di rimanere nello stato C o di passare a esso (\"Non sono riuscito a completare il passaggio da solo, quindi ho chiesto aiuto\") rispetto alla condizione T-Group. Questo suggerisce che, anche quando i partecipanti chiedono aiuto, è meno probabile che continuino a dover chiedere aiuto nella condizione VR rispetto alla condizione T-Group.\n",
    "\n",
    "I risultati mostrano che, complessivamente, i partecipanti nella condizione VR (Condizione 2) tendono ad avere risultati di performance migliori rispetto a quelli nella condizione T-Group (Condizione 1). In particolare:\n",
    "\n",
    "- *Maggiore probabilità di completamento facile (Stato A)*: La condizione VR mostra una forte tendenza (probabilità 1.00 e 0.89) a portare a una performance migliore (passaggio allo stato A) rispetto alla condizione T-Group, specialmente dallo stato 3 (richiesta di aiuto) allo stato A (completamento facile).\n",
    "\n",
    "- *Minore probabilità di necessità di aiuto (Stato C)*: La condizione VR mostra anche una tendenza (probabilità 1.00, 0.77 e 0.81) ad avere una minore probabilità di necessità di aiuto (passaggio allo stato C) in diversi scenari. Questo suggerisce che i partecipanti nella condizione VR sono meno propensi a finire per aver bisogno di aiuto, indicando una performance complessivamente migliore.\n",
    "\n",
    "Questi risultati sono in linea con la conclusione dello studio originale che la condizione VR migliora la performance riducendo la probabilità di dover chiedere aiuto e aumentando le possibilità di completare facilmente i compiti."
   ]
  },
  {
   "cell_type": "markdown",
   "metadata": {},
   "source": [
    "## Riflessioni Conclusive\n",
    "\n",
    "In questo tutorial abbiamo esplorato l'utilizzo di modelli a catena di Markov per valutare la performance degli studenti in esperimenti scientifici. Attraverso una simulazione basata sui dati di @paxinou2021analyzing, abbiamo confrontato l'efficacia di due diverse metodologie di insegnamento: il tradizionale tutorial in laboratorio e l'interazione con un software educativo in realtà virtuale (VR).\n",
    "\n",
    "I risultati empirici ottenuti da @paxinou2021analyzing indicano che la metodologia di apprendimento basata sulla realtà virtuale è più efficace nell'aiutare gli studenti ad acquisire le competenze sperimentali necessarie. Gli studenti del gruppo VR hanno dimostrato una maggiore probabilità di completare i passaggi dell'esperimento facilmente e senza bisogno di assistenza rispetto agli studenti del gruppo T (tradizionale) e del gruppo V (video). In questo tutorial, abbiamo mostrato come sia possibile analizzare dati simili a quelli discussi da @paxinou2021analyzing utilizzando modelli di catene di Markov di primo livello.\n",
    "\n",
    "@paxinou2021analyzing commentano i loro risultati affermando che i modelli basati sulle catene di Markov sono strumenti utili non solo per valutare le performance e costruire funzioni di punteggio, ma anche per l'analisi delle competenze acquisite. Inoltre, questi modelli possono essere impiegati per prevedere e intervenire efficacemente durante il processo educativo. I risultati suggeriscono che l'analisi delle catene di Markov può fornire valutazioni dinamiche e personalizzate delle competenze degli studenti, permettendo agli educatori di intervenire in modo mirato e fornire feedback tempestivi ed efficaci."
   ]
  },
  {
   "cell_type": "markdown",
   "metadata": {},
   "source": [
    "## Esercizi\n",
    "\n",
    "::: {#exr-paxinou-1}\n",
    "\n",
    "Un altro studio interessante che utilizza questo approccio è quello di @zanesco2020quantifying. I flussi di pensiero variano nel contenuto da un momento all'altro, e questi schemi temporali sono ritenuti fondamentali per comprendere il *mind wandering*. Tuttavia, sono stati proposti pochi metodi analitici in grado di considerare sia il contenuto sia l'ordine temporale delle risposte categoriche che possono essere campionate relativamente a questa esperienza nel tempo. Il flusso di pensiero raramente segue lo stesso percorso per un individuo, ma mostra comunque con una certa prevedibilità nel contesto di un compito cognitivo. In questo studio, i partecipanti hanno selezionato tra 8 opzioni possibili per descrivere se la loro attenzione fosse attualmente concentrata sul \"compito\" (opzione 1); se stessero sperimentando pensieri rivolti alla \"performance e valutazione del compito\" (opzione 2); pensieri riguardanti le \"preoccupazioni quotidiane\" (opzione 3); pensieri sul proprio stato \"fisico, cognitivo o emotivo\" (opzione 4); pensieri su \"preoccupazioni personali\" (opzione 5); pensieri fantasiosi e \"sogni a occhi aperti\" (opzione 6); pensieri sugli stimoli presenti nell’“ambiente esterno” (opzione 7); e \"altri\" pensieri non descritti dalle altre categorie (opzione 8). @zanesco2020quantifying ha applicato metodi di analisi sequenziale, utilizzando il modello di Markov di primo ordine, a questi campioni di pensiero categoriale, e i risultati hanno rivelato una certa misura di ordine e coerenza nei flussi di pensiero degli individui.\n",
    "\n",
    "Un possibile esercizio consiste nel simulare i dati utilizzando gli 8 stati considerati da @zanesco2020quantifying e la matrice di transizione riportata nel suo studio. Successivamente, si può applicare il modello di Markov di primo ordine per stimare la matrice di transizione dai dati simulati. Seguendo l'approccio di @zanesco2020quantifying, i risultati ottenuti possono poi essere interpretati per approfondire la comprensione del fenomeno del mind wandering.\n",
    "\n",
    ":::"
   ]
  },
  {
   "cell_type": "markdown",
   "metadata": {},
   "source": [
    "## Informazioni sull'Ambiente di Sviluppo {.unnumbered}"
   ]
  },
  {
   "cell_type": "code",
   "execution_count": 76,
   "metadata": {},
   "outputs": [
    {
     "name": "stdout",
     "output_type": "stream",
     "text": [
      "Last updated: Sun Aug 25 2024\n",
      "\n",
      "Python implementation: CPython\n",
      "Python version       : 3.12.4\n",
      "IPython version      : 8.26.0\n",
      "\n",
      "bambi     : 0.14.0\n",
      "logging   : 0.5.1.2\n",
      "numpy     : 1.26.4\n",
      "pandas    : 2.2.2\n",
      "arviz     : 0.18.0\n",
      "scipy     : 1.14.0\n",
      "cmdstanpy : 1.2.4\n",
      "matplotlib: 3.9.1\n",
      "\n",
      "Watermark: 2.4.3\n",
      "\n"
     ]
    }
   ],
   "source": [
    "%load_ext watermark\n",
    "%watermark -n -u -v -iv -w "
   ]
  }
 ],
 "metadata": {
  "kernelspec": {
   "display_name": "pymc5_env",
   "language": "python",
   "name": "python3"
  },
  "language_info": {
   "codemirror_mode": {
    "name": "ipython",
    "version": 3
   },
   "file_extension": ".py",
   "mimetype": "text/x-python",
   "name": "python",
   "nbconvert_exporter": "python",
   "pygments_lexer": "ipython3",
   "version": "3.12.4"
  }
 },
 "nbformat": 4,
 "nbformat_minor": 2
}
