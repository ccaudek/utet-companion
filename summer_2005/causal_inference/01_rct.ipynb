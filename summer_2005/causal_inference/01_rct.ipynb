{
 "cells": [
  {
   "attachments": {},
   "cell_type": "markdown",
   "id": "dbd20e37-5c7e-4336-b1d0-f849b1a3a6c5",
   "metadata": {},
   "source": [
    "# Trial controllati randomizzati {#sec-rct}"
   ]
  },
  {
   "attachments": {},
   "cell_type": "markdown",
   "id": "4b9676b4-ea42-4b2b-9f13-e3f4bcc5fadf",
   "metadata": {},
   "source": [
    "**Prerequisiti**\n",
    "\n",
    "- Consultare il primo capitolo di [Causal Inference: A Statistical Learning Approach](https://web.stanford.edu/~swager/causal_inf_book.pdf) di Stefan Wager.\n",
    "\n",
    "**Concetti e Competenze Chiave**\n",
    "\n",
    "**Preparazione del Notebook**"
   ]
  },
  {
   "cell_type": "code",
   "execution_count": 1,
   "id": "84332bbc-7cfa-43ce-8beb-666388a1b123",
   "metadata": {},
   "outputs": [],
   "source": [
    "import numpy as np\n",
    "import pandas as pd\n",
    "import matplotlib.pyplot as plt\n",
    "import seaborn as sns\n",
    "import scipy.stats as stats\n",
    "import arviz as az\n",
    "import pingouin as pg\n",
    "import statsmodels.api as sm"
   ]
  },
  {
   "cell_type": "code",
   "execution_count": 2,
   "id": "c82a16ac-ca79-40c2-99a3-e0b28ce0eb07",
   "metadata": {},
   "outputs": [],
   "source": [
    "seed: int = sum(map(ord, \"subj_prop\"))\n",
    "rng: np.random.Generator = np.random.default_rng(seed=seed)\n",
    "sns.set_theme(palette=\"colorblind\")\n",
    "az.style.use(\"arviz-darkgrid\")\n",
    "%config InlineBackend.figure_format = \"retina\""
   ]
  },
  {
   "cell_type": "markdown",
   "id": "3e5d4de2-e544-4694-a084-29be9191b878",
   "metadata": {},
   "source": [
    "## Introduzione {.unnumbered}\n",
    "\n",
    "Nel campo della psicologia, come in molte altre discipline scientifiche, la ricerca della causalità è fondamentale per comprendere i fenomeni umani e sviluppare interventi efficaci. Mentre la filosofia ha dibattuto per secoli sulla natura della causalità, la ricerca moderna ha fornito strumenti pratici per affrontare questa questione complessa. Tra questi, i <font color='orange'>trial controllati randomizzati</font> (RCT) emergono come un metodo particolarmente potente e affidabile.\n",
    "\n",
    "Gli RCT rappresentano un ponte tra la complessità teorica della causalità e la sua applicazione pratica nella ricerca. Questo approccio, pionieristicamente sviluppato da studiosi come @neyman1923applications e @rubin1974estimating, permette ai ricercatori di stabilire relazioni causali con un alto grado di confidenza, grazie all'uso attento della randomizzazione e dell'analisi statistica.\n",
    "\n",
    "Questo capitolo, che segue la trattazione presentata nel testo [Causal Inference: A Statistical Learning Approach](https://web.stanford.edu/~swager/causal_inf_book.pdf) di Stefan Wager, offre una panoramica sintetica delle stime statistiche e dell'inferenza nei trial controllati randomizzati. Quando disponibili, le prove derivate dagli RCT sono spesso considerate il \"gold standard\" delle evidenze statistiche; pertanto, i metodi per studiare gli RCT costituiscono la base degli strumenti statistici per l'inferenza causale. Inoltre, molti dei disegni di studio osservazionali ampiamente utilizzati, anche in psicologia, si ispirano agli RCT. Di conseguenza, questo capitolo funge anche da punto di partenza per le discussioni successive sulle stime e sull'inferenza negli studi osservazionali.\n",
    "\n",
    "## Concetti Fondamentali negli RCT\n",
    "\n",
    "### Effetti del Trattamento\n",
    "\n",
    "Nel contesto degli RCT in psicologia, il \"trattamento\" potrebbe essere un intervento terapeutico, un programma educativo, o qualsiasi altra variabile manipolata dai ricercatori. L'obiettivo principale è determinare l'effetto di questo trattamento su una o più variabili di risultato.\n",
    "\n",
    "### Effetti medi del trattamento (ATE e SATE)\n",
    "\n",
    "Quando si vuole studiare l'effetto di un trattamento, una delle sfide principali è quella di capire come cambierebbe l'outcome se a una persona venisse somministrato un trattamento diverso da quello effettivamente ricevuto. Questo concetto è formalizzato nell'<font color='orange'>effetto causale individuale</font>, che è la differenza tra il risultato osservabile se una persona riceve il trattamento ($Y_i(1)$) e il risultato se non lo riceve ($Y_i(0)$). Questa differenza si esprime come:\n",
    "\n",
    "$$\n",
    "\\theta_i = Y_i(1) - Y_i(0).\n",
    "$$\n",
    "\n",
    "Tuttavia, poiché per ogni individuo possiamo osservare solo uno di questi due risultati (non possiamo sapere cosa sarebbe successo se avessero ricevuto un trattamento diverso), non possiamo mai conoscere direttamente l'effetto individuale. \n",
    "\n",
    "Per superare questo problema, si ricorre alla media degli effetti del trattamento su un gruppo di persone, ovvero all'<font color='orange'>effetto medio del trattamento</font>. Questo può essere definito in due modi:\n",
    "\n",
    "- **Effetto Medio Campionario del Trattamento (SATE - Sample Average Treatment Effect)**, che è la media degli effetti del trattamento nel campione:\n",
    "\n",
    "$$\n",
    "\\hat{\\theta} = \\frac{1}{n} \\sum_{i=1}^{n} (Y_i(1) - Y_i(0)).\n",
    "$$\n",
    "\n",
    "- **Effetto Medio del Trattamento nella Popolazione (ATE - Average Treatment Effect)**, che è la media dell'effetto del trattamento in un'intera popolazione da cui è tratto il campione:\n",
    "\n",
    "$$\n",
    "\\tau = \\mathbb{E}_P[Y_i(1) - Y_i(0)].\n",
    "$$\n",
    "\n",
    "Queste definizioni permettono di stimare l'effetto medio del trattamento anche senza osservare gli effetti individuali per ogni persona.\n",
    "\n",
    "### Stima tramite differenza delle medie\n",
    "\n",
    "Un metodo comune per stimare l'ATE in un trial randomizzato è usare la <font color='orange'>differenza tra le medie</font> degli outcome tra il gruppo trattato e il gruppo di controllo. Questo metodo funziona in modo molto intuitivo: calcoliamo la media dei risultati per il gruppo che ha ricevuto il trattamento e la media per il gruppo che non l'ha ricevuto, quindi sottraiamo queste due medie:\n",
    "\n",
    "$$\n",
    "\\hat{\\tau}_{DM} = \\frac{1}{n_1} \\sum_{i: W_i = 1} Y_i - \\frac{1}{n_0} \\sum_{i: W_i = 0} Y_i,\n",
    "$$\n",
    "\n",
    "dove $n_1$ è il numero di individui che hanno ricevuto il trattamento (gruppo trattato) e $n_0$ è il numero di individui che non lo hanno ricevuto (gruppo di controllo). \n",
    "\n",
    "Questo stimatore è *non distorto* se il trattamento è stato assegnato in modo casuale. Ciò significa che, in media, la stima dell'ATE fornita dalla differenza delle medie sarà corretta.\n",
    "\n",
    "### Teorema del limite centrale e intervalli di confidenza\n",
    "\n",
    "Per dare una misura dell'incertezza della stima dell'ATE in termini frequentisti, possiamo applicare il *teorema del limite centrale (TLC)*. Questo teorema afferma che, se il campione è sufficientemente grande e i partecipanti sono selezionati in modo indipendente da una popolazione, la distribuzione della stima dell'ATE tende a seguire una distribuzione normale, con media pari all'ATE vero e una certa varianza:\n",
    "\n",
    "$$\n",
    "\\sqrt{n} (\\hat{\\tau}_{DM} - \\tau) \\sim N(0, V_{DM}),\n",
    "$$\n",
    "\n",
    "dove $V_{DM}$ rappresenta la varianza asintotica della differenza tra le medie. Questo ci permette di costruire un intervallo di confidenza per l'ATE:\n",
    "\n",
    "$$\n",
    "\\hat{\\tau}_{DM} \\pm z_{\\alpha/2} \\sqrt{\\frac{\\hat{V}_{DM}}{n}}.\n",
    "$$\n",
    "\n",
    "Qui, $z_{\\alpha/2}$ è il valore critico dalla distribuzione normale standard (ad esempio, per un livello di confidenza del 95%, $z_{0.025} = 1.96$). L'intervallo di confidenza fornisce una stima dell'ATE insieme a una misura della sua incertezza. Se l'intervallo è stretto, abbiamo una maggiore fiducia nella stima; se è largo, la stima è più incerta.\n",
    "\n",
    "### Aggiustamenti per regressione\n",
    "\n",
    "Gli <font color='orange'>aggiustamenti per regressione</font> permettono di migliorare la precisione della stima dell'ATE includendo informazioni aggiuntive, come covariate pre-trattamento, nel modello. L'idea di base è che, oltre al trattamento, altre variabili (covariate) potrebbero influenzare l'outcome. Quindi, includere queste covariate può aiutarci a spiegare meglio le differenze negli outcome e a ridurre la varianza della stima dell'ATE.\n",
    "\n",
    "Vediamo passo per passo come funziona:\n",
    "\n",
    "#### Modello di regressione con covariate\n",
    "Si usa una regressione lineare che modella l'outcome $Y_i$ in funzione del trattamento $W_i$ e delle covariate $X_i$:\n",
    "\n",
    "$$\n",
    "Y_i = \\alpha + W_i \\tau + X_i \\beta + W_i X_i \\gamma + \\epsilon_i,\n",
    "$$\n",
    "\n",
    "- $Y_i$: l'outcome dell'individuo $i$.\n",
    "- $W_i$: il trattamento (1 se l'individuo è trattato, 0 se non lo è).\n",
    "- $X_i$: le covariate pre-trattamento (es. età, genere).\n",
    "- $\\alpha$: l'intercetta, cioè il valore dell'outcome medio quando $W_i = 0$ e $X_i = 0$.\n",
    "- $\\tau$: il parametro che rappresenta l'effetto medio del trattamento (ATE), che vogliamo stimare.\n",
    "- $\\beta$: il vettore di parametri associati alle covariate, che misura quanto le covariate influenzano l'outcome.\n",
    "- $\\gamma$: il vettore di parametri di interazione tra trattamento e covariate (cioè quanto l'effetto del trattamento varia in funzione delle covariate).\n",
    "- $\\epsilon_i$: l'errore, che rappresenta le variazioni non spiegate dal modello.\n",
    "\n",
    "#### Aggiustamento per covariate\n",
    "La regressione permette di aggiustare gli outcome per le covariate $X_i$, separando l'effetto delle covariate dall'effetto del trattamento. Questo è utile perché riduce la \"rumorosità\" dei dati e rende più facile identificare l'effetto del trattamento $\\tau$.\n",
    "\n",
    "#### Stima dell'ATE\n",
    "Una volta stimati i coefficienti del modello tramite una regressione (solitamente con il metodo dei minimi quadrati), possiamo calcolare la stima dell'ATE.\n",
    "\n",
    "Il trucco è che possiamo usare i risultati della regressione per predire quale sarebbe stato l'outcome di ciascun individuo sotto entrambi i livelli del trattamento ($W_i = 1$ e $W_i = 0$):\n",
    "\n",
    "- Per stimare l'outcome atteso se <font color='orange'>tutti gli individui fossero trattati</font> ($W_i = 1$):\n",
    "\n",
    "  $$\n",
    "  \\hat{Y}_i(1) = \\hat{\\alpha}(1) + X_i \\hat{\\beta}(1).\n",
    "  $$\n",
    "  \n",
    "- Per stimare l'outcome atteso se <font color='orange'>nessun individuo fosse trattato</font> ($W_i = 0$):\n",
    "\n",
    "  $$\n",
    "  \\hat{Y}_i(0) = \\hat{\\alpha}(0) + X_i \\hat{\\beta}(0).\n",
    "  $$\n",
    "\n",
    "dove:\n",
    "\n",
    "- $\\hat{\\alpha}(1)$ e $\\hat{\\alpha}(0)$ sono gli intercept stimati per i trattati e non trattati.\n",
    "- $\\hat{\\beta}(1)$ e $\\hat{\\beta}(0)$ sono i coefficienti stimati per le covariate nei due gruppi.\n",
    "\n",
    "L'effetto medio del trattamento (ATE) si ottiene quindi come la <font color='orange'>differenza media</font> tra questi due outcome previsti:\n",
    "\n",
    "$$\n",
    "\\hat{\\tau}_{IREG} = \\frac{1}{n} \\sum_{i=1}^{n} \\left[ \\hat{Y}_i(1) - \\hat{Y}_i(0) \\right].\n",
    "$$\n",
    "\n",
    "In pratica, l'algoritmo di regressione ti permette di stimare quale sarebbe stato l'outcome atteso per ciascun individuo se fossero stati trattati o meno, tenendo conto delle loro caratteristiche (covariate). La differenza media tra questi due scenari fornisce una stima più precisa dell'ATE.\n",
    "\n",
    "#### Vantaggio dell'aggiustamento\n",
    "\n",
    "L'uso delle covariate nel modello aiuta a ridurre la varianza della stima dell'ATE, poiché le covariate possono spiegare parte della variabilità negli outcome. Ciò significa che, rispetto al semplice confronto delle medie tra trattati e non trattati, l'aggiustamento per covariate porta a una stima più precisa, soprattutto quando le covariate hanno una forte influenza sugli outcome.\n",
    "\n",
    "In conclusione, l'aggiustamento per regressione permette di stimare l'ATE in modo più efficiente, migliorando la precisione senza introdurre distorsioni, anche quando la relazione tra le covariate e gli outcome non è perfettamente lineare.\n",
    "\n",
    "### Confronto tra stimatori\n",
    "\n",
    "Il metodo della differenza delle medie è semplice da implementare, ma non ottimale in termini di efficienza statistica, poiché non sfrutta completamente le informazioni disponibili. Al contrario, l'aggiustamento per regressione migliora l'efficienza statistica riducendo la varianza della stima, senza introdurre distorsioni. In particolare, lo stimatore con regressione può essere sempre uguale o migliore (in termini di varianza) rispetto alla differenza delle medie, e questa riduzione della varianza diventa più significativa quando le covariate hanno una forte influenza sugli outcome.\n",
    "\n",
    "In sintesi, l'uso della regressione per aggiustare i risultati è vantaggioso perché permette di utilizzare tutte le informazioni disponibili (inclusi i dati pre-trattamento), migliorando la precisione delle stime senza compromettere la validità delle inferenze.\n",
    "\n",
    "Questi concetti sono fondamentali per comprendere come condurre inferenze causali in modo robusto, specialmente nei contesti sperimentali come i trial randomizzati."
   ]
  },
  {
   "cell_type": "markdown",
   "metadata": {},
   "source": [
    "## Simulazione\n",
    "\n",
    "In questo esempio, supponiamo di avere:\n",
    "\n",
    "- Una variabile di trattamento (0 o 1),\n",
    "- Due covariate ($X_1$, $X_2$) che influenzano l'outcome,\n",
    "- Un effetto causale del trattamento.\n",
    "\n",
    "Useremo una regressione per stimare l'ATE aggiustando per le covariate."
   ]
  },
  {
   "cell_type": "code",
   "execution_count": 3,
   "metadata": {},
   "outputs": [
    {
     "name": "stdout",
     "output_type": "stream",
     "text": [
      "   Treatment         X1         X2    Outcome\n",
      "0          0  54.967142  34.630888  56.161344\n",
      "1          0  48.617357  39.547083  38.837491\n",
      "2          1  56.476885  23.007162  76.707396\n",
      "3          1  65.230299  32.814846  81.380258\n",
      "4          0  47.658466  26.746787  61.198821\n"
     ]
    }
   ],
   "source": [
    "# Imposta il seme per la riproducibilità\n",
    "np.random.seed(42)\n",
    "\n",
    "# Numero di osservazioni\n",
    "n = 500\n",
    "\n",
    "# Generiamo due covariate indipendenti\n",
    "X1 = np.random.normal(50, 10, size=n)  # Covariata 1\n",
    "X2 = np.random.normal(30, 5, size=n)  # Covariata 2\n",
    "\n",
    "# Variabile di trattamento casuale (0 o 1)\n",
    "treatment = np.random.binomial(1, 0.5, size=n)\n",
    "\n",
    "# Effetti veri delle covariate sugli outcome\n",
    "beta_X1 = 2.0\n",
    "beta_X2 = -1.5\n",
    "\n",
    "# Effetto del trattamento sull'outcome\n",
    "treatment_effect = 5.0\n",
    "\n",
    "# Generiamo l'outcome vero includendo il trattamento e le covariate\n",
    "# Outcome simulato: Y = 5*T + 2*X1 - 1.5*X2 + errore\n",
    "outcome = (\n",
    "    treatment_effect * treatment\n",
    "    + beta_X1 * X1\n",
    "    + beta_X2 * X2\n",
    "    + np.random.normal(0, 5, size=n)\n",
    ")\n",
    "\n",
    "# Creiamo un DataFrame per contenere i dati\n",
    "data = pd.DataFrame({\"Treatment\": treatment, \"X1\": X1, \"X2\": X2, \"Outcome\": outcome})\n",
    "\n",
    "# Mostra un'anteprima dei dati\n",
    "print(data.head())"
   ]
  },
  {
   "cell_type": "markdown",
   "metadata": {},
   "source": [
    "###  Stima dell'ATE senza aggiustamento (Differenza tra le medie)\n",
    "\n",
    "La differenza tra le medie può essere calcolata confrontando l'outcome medio per il gruppo trattato e il gruppo non trattato."
   ]
  },
  {
   "cell_type": "code",
   "execution_count": 4,
   "metadata": {},
   "outputs": [
    {
     "name": "stdout",
     "output_type": "stream",
     "text": [
      "ATE senza aggiustamento (differenza tra le medie): 9.59\n"
     ]
    }
   ],
   "source": [
    "# Calcolo della differenza tra le medie\n",
    "mean_treated = data[data[\"Treatment\"] == 1][\"Outcome\"].mean()\n",
    "mean_control = data[data[\"Treatment\"] == 0][\"Outcome\"].mean()\n",
    "\n",
    "ate_naive = mean_treated - mean_control\n",
    "print(f\"ATE senza aggiustamento (differenza tra le medie): {ate_naive:.2f}\")"
   ]
  },
  {
   "cell_type": "markdown",
   "metadata": {},
   "source": [
    "### Aggiustamento per regressione\n",
    "\n",
    "Ora eseguiamo una regressione lineare che include il trattamento e le covariate. Utilizziamo pingouin o statsmodels per eseguire la regressione e stimare l'ATE."
   ]
  },
  {
   "cell_type": "code",
   "execution_count": 6,
   "metadata": {},
   "outputs": [
    {
     "name": "stdout",
     "output_type": "stream",
     "text": [
      "                            OLS Regression Results                            \n",
      "==============================================================================\n",
      "Dep. Variable:                Outcome   R-squared:                       0.952\n",
      "Model:                            OLS   Adj. R-squared:                  0.951\n",
      "Method:                 Least Squares   F-statistic:                     3261.\n",
      "Date:                Sat, 21 Sep 2024   Prob (F-statistic):               0.00\n",
      "Time:                        08:18:33   Log-Likelihood:                -1501.2\n",
      "No. Observations:                 500   AIC:                             3010.\n",
      "Df Residuals:                     496   BIC:                             3027.\n",
      "Df Model:                           3                                         \n",
      "Covariance Type:            nonrobust                                         \n",
      "==============================================================================\n",
      "                 coef    std err          t      P>|t|      [0.025      0.975]\n",
      "------------------------------------------------------------------------------\n",
      "const         -0.0830      1.843     -0.045      0.964      -3.704       3.538\n",
      "Treatment      5.9935      0.439     13.648      0.000       5.131       6.856\n",
      "X1             1.9780      0.022     88.112      0.000       1.934       2.022\n",
      "X2            -1.4672      0.045    -32.658      0.000      -1.555      -1.379\n",
      "==============================================================================\n",
      "Omnibus:                        0.174   Durbin-Watson:                   1.952\n",
      "Prob(Omnibus):                  0.917   Jarque-Bera (JB):                0.263\n",
      "Skew:                          -0.033   Prob(JB):                        0.877\n",
      "Kurtosis:                       2.910   Cond. No.                         498.\n",
      "==============================================================================\n",
      "\n",
      "Notes:\n",
      "[1] Standard Errors assume that the covariance matrix of the errors is correctly specified.\n",
      "\n",
      "ATE con aggiustamento per le covariate: 5.99\n"
     ]
    }
   ],
   "source": [
    "# Aggiunta di un'intercetta al modello\n",
    "X = sm.add_constant(data[[\"Treatment\", \"X1\", \"X2\"]])\n",
    "\n",
    "# Eseguiamo la regressione con statsmodels\n",
    "model = sm.OLS(data[\"Outcome\"], X).fit()\n",
    "\n",
    "# Mostriamo i risultati della regressione\n",
    "print(model.summary())\n",
    "\n",
    "# Estrarre il coefficiente del trattamento, che rappresenta l'ATE aggiustato\n",
    "ate_adjusted = model.params[\"Treatment\"]\n",
    "print(f\"\\nATE con aggiustamento per le covariate: {ate_adjusted:.2f}\")"
   ]
  },
  {
   "cell_type": "markdown",
   "metadata": {},
   "source": [
    "### Interpretazione dei risultati\n",
    "\n",
    "- **ATE senza aggiustamento (Differenza tra le medie):** Questa stima riflette l'effetto medio del trattamento senza tener conto delle covariate.\n",
    "- **ATE con aggiustamento per covariate:** Questa stima corregge per le differenze nelle covariate $X_1$ e $X_2$ tra i gruppi trattati e non trattati, fornendo una stima più precisa dell'effetto causale del trattamento (nella popolazione, l'ATE simulato era pari a 5).\n",
    "\n",
    "Questo esempio mostra come possiamo simulare una popolazione con covariate che influenzano l'outcome e come utilizzare una regressione per aggiustare queste covariate quando stimiamo l'effetto del trattamento (ATE)."
   ]
  },
  {
   "cell_type": "markdown",
   "id": "4b528b55-5283-4ab3-9d55-72fdef69e9a9",
   "metadata": {},
   "source": [
    "## Informazioni sull'Ambiente di Sviluppo {.unnumbered}"
   ]
  },
  {
   "cell_type": "code",
   "execution_count": 43,
   "id": "589acf1f-6daa-4cf3-9806-b163cda1dac3",
   "metadata": {},
   "outputs": [
    {
     "name": "stdout",
     "output_type": "stream",
     "text": [
      "Last updated: Wed Jul 17 2024\n",
      "\n",
      "Python implementation: CPython\n",
      "Python version       : 3.12.4\n",
      "IPython version      : 8.26.0\n",
      "\n",
      "Compiler    : Clang 16.0.6 \n",
      "OS          : Darwin\n",
      "Release     : 23.5.0\n",
      "Machine     : arm64\n",
      "Processor   : arm\n",
      "CPU cores   : 8\n",
      "Architecture: 64bit\n",
      "\n",
      "pandas    : 2.2.2\n",
      "scipy     : 1.14.0\n",
      "seaborn   : 0.13.2\n",
      "arviz     : 0.18.0\n",
      "matplotlib: 3.9.1\n",
      "numpy     : 1.26.4\n",
      "\n",
      "Watermark: 2.4.3\n",
      "\n"
     ]
    }
   ],
   "source": [
    "%load_ext watermark\n",
    "%watermark -n -u -v -iv -w -m"
   ]
  }
 ],
 "metadata": {
  "kernelspec": {
   "display_name": "cmdstan_env",
   "language": "python",
   "name": "python3"
  },
  "language_info": {
   "codemirror_mode": {
    "name": "ipython",
    "version": 3
   },
   "file_extension": ".py",
   "mimetype": "text/x-python",
   "name": "python",
   "nbconvert_exporter": "python",
   "pygments_lexer": "ipython3",
   "version": "3.12.4"
  }
 },
 "nbformat": 4,
 "nbformat_minor": 2
}
